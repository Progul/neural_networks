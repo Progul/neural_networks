{
 "cells": [
  {
   "attachments": {},
   "cell_type": "markdown",
   "metadata": {},
   "source": [
    "# Домашняя работа ко второму уроку Keras\n"
   ]
  },
  {
   "cell_type": "code",
   "execution_count": 62,
   "metadata": {
    "ExecuteTime": {
     "end_time": "2021-05-02T17:26:35.574720Z",
     "start_time": "2021-05-02T17:26:35.564721Z"
    }
   },
   "outputs": [
    {
     "data": {
      "text/plain": [
       "'2.4.3'"
      ]
     },
     "execution_count": 62,
     "metadata": {},
     "output_type": "execute_result"
    }
   ],
   "source": [
    "import matplotlib.pyplot as plt\n",
    "import numpy as np\n",
    "import pandas as pd\n",
    "from tqdm import tqdm\n",
    "import itertools\n",
    "\n",
    "import tensorflow as tf\n",
    "\n",
    "import keras\n",
    "from keras.datasets import fashion_mnist\n",
    "from keras.layers import Dense\n",
    "from keras.models import Sequential\n",
    "from keras.utils import to_categorical\n",
    "\n",
    "from keras.optimizers import SGD\n",
    "from keras.optimizers import Adagrad\n",
    "from keras.optimizers import RMSprop\n",
    "from keras.optimizers import Adam\n",
    "\n",
    "keras.__version__"
   ]
  },
  {
   "cell_type": "code",
   "execution_count": 2,
   "metadata": {
    "ExecuteTime": {
     "end_time": "2021-05-02T14:33:51.553358Z",
     "start_time": "2021-05-02T14:33:50.613359Z"
    }
   },
   "outputs": [
    {
     "name": "stdout",
     "output_type": "stream",
     "text": [
      "(60000, 28, 28) (10000, 28, 28)\n",
      "(60000,)\n"
     ]
    }
   ],
   "source": [
    "(X_train, y_train_labels), (X_test, y_test_labels) = fashion_mnist.load_data()\n",
    "\n",
    "print(X_train.shape, X_test.shape)\n",
    "print(y_train_labels.shape)"
   ]
  },
  {
   "cell_type": "code",
   "execution_count": 3,
   "metadata": {
    "ExecuteTime": {
     "end_time": "2021-05-02T14:33:51.979878Z",
     "start_time": "2021-05-02T14:33:51.559358Z"
    }
   },
   "outputs": [
    {
     "name": "stdout",
     "output_type": "stream",
     "text": [
      "Label is 6\n"
     ]
    },
    {
     "data": {
      "image/png": "[encoded data removed]",
      "text/plain": [
       "<Figure size 432x288 with 1 Axes>"
      ]
     },
     "metadata": {
      "needs_background": "light"
     },
     "output_type": "display_data"
    }
   ],
   "source": [
    "ind = np.random.randint(0, X_train.shape[0])\n",
    "plt.imshow(X_train[ind], cmap='gray')\n",
    "print(f'Label is {y_train_labels[ind]}')"
   ]
  },
  {
   "cell_type": "code",
   "execution_count": 4,
   "metadata": {
    "ExecuteTime": {
     "end_time": "2021-05-02T14:33:52.377398Z",
     "start_time": "2021-05-02T14:33:51.982878Z"
    }
   },
   "outputs": [
    {
     "data": {
      "text/plain": [
       "(0.0, 1.0)"
      ]
     },
     "execution_count": 4,
     "metadata": {},
     "output_type": "execute_result"
    }
   ],
   "source": [
    "# Нормирование\n",
    "X_train = X_train / 255.0\n",
    "X_test = X_test / 255.0\n",
    "X_train.min(), X_train.max()"
   ]
  },
  {
   "cell_type": "code",
   "execution_count": 5,
   "metadata": {
    "ExecuteTime": {
     "end_time": "2021-05-02T14:33:52.393397Z",
     "start_time": "2021-05-02T14:33:52.380400Z"
    }
   },
   "outputs": [
    {
     "data": {
      "text/plain": [
       "((60000, 784), (10000, 784))"
      ]
     },
     "execution_count": 5,
     "metadata": {},
     "output_type": "execute_result"
    }
   ],
   "source": [
    "X_train = X_train.reshape((-1, 28 * 28))\n",
    "X_test = X_test.reshape((-1, 28 * 28))\n",
    "\n",
    "X_train.shape, X_test.shape"
   ]
  },
  {
   "cell_type": "code",
   "execution_count": 6,
   "metadata": {
    "ExecuteTime": {
     "end_time": "2021-05-02T14:35:53.083534Z",
     "start_time": "2021-05-02T14:33:52.396399Z"
    }
   },
   "outputs": [
    {
     "name": "stderr",
     "output_type": "stream",
     "text": [
      "100%|██████████████████████████████████████████████████████████████████████████████████| 15/15 [02:00<00:00,  8.04s/it]\n"
     ]
    }
   ],
   "source": [
    "model_history = []\n",
    "n_list = [int(i) for i in np.geomspace(5, 500, num=15, axis=0).tolist()]\n",
    "\n",
    "\n",
    "for n_neurons in tqdm(n_list):\n",
    "\n",
    "    # define the keras model\n",
    "    model = Sequential()\n",
    "    model.add(Dense(n_neurons, input_shape=(28 * 28,), activation='relu'))\n",
    "    model.add(Dense(10, activation='sigmoid'))\n",
    "    #model.summary()\n",
    "\n",
    "    config = model.get_config()\n",
    "\n",
    "    model.compile(loss='categorical_crossentropy', optimizer='SGD', metrics=['accuracy'])\n",
    "\n",
    "   \n",
    "    y_train = to_categorical(y_train_labels)\n",
    "    y_test = to_categorical(y_test_labels)\n",
    "\n",
    "    y_train[:5]\n",
    "\n",
    "\n",
    "    \n",
    "    history = model.fit(X_train, y_train,\n",
    "                        epochs=5,\n",
    "                        batch_size=64,\n",
    "                        verbose=0,\n",
    "                        validation_data=(X_test, y_test)                        \n",
    "                        )\n",
    "    model_history.append([history, n_neurons])"
   ]
  },
  {
   "cell_type": "code",
   "execution_count": 7,
   "metadata": {
    "ExecuteTime": {
     "end_time": "2021-05-02T14:35:53.099532Z",
     "start_time": "2021-05-02T14:35:53.086535Z"
    }
   },
   "outputs": [
    {
     "data": {
      "text/plain": [
       "0.7953000068664551"
      ]
     },
     "execution_count": 7,
     "metadata": {},
     "output_type": "execute_result"
    }
   ],
   "source": [
    "model_history[0][0].history['accuracy'][-1]"
   ]
  },
  {
   "cell_type": "code",
   "execution_count": 8,
   "metadata": {
    "ExecuteTime": {
     "end_time": "2021-05-02T14:35:53.163536Z",
     "start_time": "2021-05-02T14:35:53.102534Z"
    }
   },
   "outputs": [
    {
     "data": {
      "text/html": [
       "<div>\n",
       "<style scoped>\n",
       "    .dataframe tbody tr th:only-of-type {\n",
       "        vertical-align: middle;\n",
       "    }\n",
       "\n",
       "    .dataframe tbody tr th {\n",
       "        vertical-align: top;\n",
       "    }\n",
       "\n",
       "    .dataframe thead th {\n",
       "        text-align: right;\n",
       "    }\n",
       "</style>\n",
       "<table border=\"1\" class=\"dataframe\">\n",
       "  <thead>\n",
       "    <tr style=\"text-align: right;\">\n",
       "      <th></th>\n",
       "      <th>no. neurons</th>\n",
       "      <th>train accuracy</th>\n",
       "      <th>val_accuracy</th>\n",
       "    </tr>\n",
       "  </thead>\n",
       "  <tbody>\n",
       "    <tr>\n",
       "      <th>0</th>\n",
       "      <td>5.0</td>\n",
       "      <td>0.795300</td>\n",
       "      <td>0.7871</td>\n",
       "    </tr>\n",
       "    <tr>\n",
       "      <th>1</th>\n",
       "      <td>6.0</td>\n",
       "      <td>0.782267</td>\n",
       "      <td>0.7789</td>\n",
       "    </tr>\n",
       "    <tr>\n",
       "      <th>2</th>\n",
       "      <td>9.0</td>\n",
       "      <td>0.813000</td>\n",
       "      <td>0.8085</td>\n",
       "    </tr>\n",
       "    <tr>\n",
       "      <th>3</th>\n",
       "      <td>13.0</td>\n",
       "      <td>0.824550</td>\n",
       "      <td>0.8191</td>\n",
       "    </tr>\n",
       "    <tr>\n",
       "      <th>4</th>\n",
       "      <td>18.0</td>\n",
       "      <td>0.828117</td>\n",
       "      <td>0.8205</td>\n",
       "    </tr>\n",
       "    <tr>\n",
       "      <th>5</th>\n",
       "      <td>25.0</td>\n",
       "      <td>0.835817</td>\n",
       "      <td>0.8249</td>\n",
       "    </tr>\n",
       "    <tr>\n",
       "      <th>6</th>\n",
       "      <td>35.0</td>\n",
       "      <td>0.834983</td>\n",
       "      <td>0.8260</td>\n",
       "    </tr>\n",
       "    <tr>\n",
       "      <th>7</th>\n",
       "      <td>49.0</td>\n",
       "      <td>0.834483</td>\n",
       "      <td>0.8251</td>\n",
       "    </tr>\n",
       "    <tr>\n",
       "      <th>8</th>\n",
       "      <td>69.0</td>\n",
       "      <td>0.836033</td>\n",
       "      <td>0.8277</td>\n",
       "    </tr>\n",
       "    <tr>\n",
       "      <th>9</th>\n",
       "      <td>96.0</td>\n",
       "      <td>0.837633</td>\n",
       "      <td>0.8245</td>\n",
       "    </tr>\n",
       "    <tr>\n",
       "      <th>10</th>\n",
       "      <td>134.0</td>\n",
       "      <td>0.838500</td>\n",
       "      <td>0.8240</td>\n",
       "    </tr>\n",
       "    <tr>\n",
       "      <th>11</th>\n",
       "      <td>186.0</td>\n",
       "      <td>0.840200</td>\n",
       "      <td>0.8286</td>\n",
       "    </tr>\n",
       "    <tr>\n",
       "      <th>12</th>\n",
       "      <td>258.0</td>\n",
       "      <td>0.843833</td>\n",
       "      <td>0.8338</td>\n",
       "    </tr>\n",
       "    <tr>\n",
       "      <th>13</th>\n",
       "      <td>359.0</td>\n",
       "      <td>0.842550</td>\n",
       "      <td>0.8302</td>\n",
       "    </tr>\n",
       "    <tr>\n",
       "      <th>14</th>\n",
       "      <td>499.0</td>\n",
       "      <td>0.843550</td>\n",
       "      <td>0.8293</td>\n",
       "    </tr>\n",
       "  </tbody>\n",
       "</table>\n",
       "</div>"
      ],
      "text/plain": [
       "    no. neurons  train accuracy  val_accuracy\n",
       "0           5.0        0.795300        0.7871\n",
       "1           6.0        0.782267        0.7789\n",
       "2           9.0        0.813000        0.8085\n",
       "3          13.0        0.824550        0.8191\n",
       "4          18.0        0.828117        0.8205\n",
       "5          25.0        0.835817        0.8249\n",
       "6          35.0        0.834983        0.8260\n",
       "7          49.0        0.834483        0.8251\n",
       "8          69.0        0.836033        0.8277\n",
       "9          96.0        0.837633        0.8245\n",
       "10        134.0        0.838500        0.8240\n",
       "11        186.0        0.840200        0.8286\n",
       "12        258.0        0.843833        0.8338\n",
       "13        359.0        0.842550        0.8302\n",
       "14        499.0        0.843550        0.8293"
      ]
     },
     "execution_count": 8,
     "metadata": {},
     "output_type": "execute_result"
    }
   ],
   "source": [
    "df = pd.DataFrame(columns=['no. neurons', 'train accuracy', 'val_accuracy'])\n",
    "i = 0\n",
    "for i in range(len(model_history)):    \n",
    "    df.loc[i] = [model_history[i][1], model_history[i][0].history['accuracy'][-1],\\\n",
    "                 model_history[i][0].history['val_accuracy'][-1]]\n",
    "    i += 1\n",
    "df"
   ]
  },
  {
   "cell_type": "code",
   "execution_count": 9,
   "metadata": {
    "ExecuteTime": {
     "end_time": "2021-05-02T14:35:53.402536Z",
     "start_time": "2021-05-02T14:35:53.166536Z"
    }
   },
   "outputs": [
    {
     "data": {
      "image/png": "[encoded data removed]",
      "text/plain": [
       "<Figure size 432x288 with 1 Axes>"
      ]
     },
     "metadata": {
      "needs_background": "light"
     },
     "output_type": "display_data"
    }
   ],
   "source": [
    "plt.plot(df['no. neurons'], df['train accuracy'], label='train accuracy')\n",
    "plt.plot(df['no. neurons'], df['val_accuracy'], label='val_accuracy')\n",
    "plt.legend();"
   ]
  },
  {
   "attachments": {},
   "cell_type": "markdown",
   "metadata": {},
   "source": [
    "**Вывод**: С ростом количества нейронов, качество растёт."
   ]
  },
  {
   "attachments": {},
   "cell_type": "markdown",
   "metadata": {},
   "source": [
    "#### 2-х слойная модель, входной слой = 28 нейронов"
   ]
  },
  {
   "cell_type": "code",
   "execution_count": 10,
   "metadata": {
    "ExecuteTime": {
     "end_time": "2021-05-02T14:35:58.080081Z",
     "start_time": "2021-05-02T14:35:53.404532Z"
    }
   },
   "outputs": [],
   "source": [
    "model = Sequential()\n",
    "model.add(Dense(28, input_shape=(28 * 28,), activation='relu'))\n",
    "model.add(Dense(10, activation='sigmoid'))\n",
    "#model.summary()\n",
    "\n",
    "config = model.get_config()\n",
    "\n",
    "model.compile(loss='categorical_crossentropy', optimizer='SGD', metrics=['accuracy'])\n",
    "\n",
    "y_train = to_categorical(y_train_labels)\n",
    "y_test = to_categorical(y_test_labels)\n",
    "\n",
    "history_2 = model.fit(X_train, y_train,\n",
    "                    epochs=5,\n",
    "                    batch_size=64,\n",
    "                    verbose=0,\n",
    "                    validation_data=(X_test, y_test)\n",
    "                    )"
   ]
  },
  {
   "cell_type": "code",
   "execution_count": 11,
   "metadata": {
    "ExecuteTime": {
     "end_time": "2021-05-02T14:35:58.096086Z",
     "start_time": "2021-05-02T14:35:58.081086Z"
    }
   },
   "outputs": [
    {
     "data": {
      "text/html": [
       "<div>\n",
       "<style scoped>\n",
       "    .dataframe tbody tr th:only-of-type {\n",
       "        vertical-align: middle;\n",
       "    }\n",
       "\n",
       "    .dataframe tbody tr th {\n",
       "        vertical-align: top;\n",
       "    }\n",
       "\n",
       "    .dataframe thead th {\n",
       "        text-align: right;\n",
       "    }\n",
       "</style>\n",
       "<table border=\"1\" class=\"dataframe\">\n",
       "  <thead>\n",
       "    <tr style=\"text-align: right;\">\n",
       "      <th></th>\n",
       "      <th>architecture</th>\n",
       "      <th>train accuracy</th>\n",
       "      <th>val_accuracy</th>\n",
       "    </tr>\n",
       "  </thead>\n",
       "  <tbody>\n",
       "    <tr>\n",
       "      <th>1</th>\n",
       "      <td>2 layers, input=28</td>\n",
       "      <td>0.8331</td>\n",
       "      <td>0.8265</td>\n",
       "    </tr>\n",
       "  </tbody>\n",
       "</table>\n",
       "</div>"
      ],
      "text/plain": [
       "         architecture  train accuracy  val_accuracy\n",
       "1  2 layers, input=28          0.8331        0.8265"
      ]
     },
     "execution_count": 11,
     "metadata": {},
     "output_type": "execute_result"
    }
   ],
   "source": [
    "df_ = pd.DataFrame(columns=['architecture', 'train accuracy', 'val_accuracy'])\n",
    "\n",
    "df_.loc[1] = ['2 layers, input=28', history_2.history['accuracy'][-1],\\\n",
    "                 history_2.history['val_accuracy'][-1]]\n",
    "\n",
    "df_"
   ]
  },
  {
   "attachments": {},
   "cell_type": "markdown",
   "metadata": {},
   "source": [
    "#### 2-х слойная модель, входной слой = 28 * 28 нейронов"
   ]
  },
  {
   "cell_type": "code",
   "execution_count": 12,
   "metadata": {
    "ExecuteTime": {
     "end_time": "2021-05-02T14:36:20.416643Z",
     "start_time": "2021-05-02T14:35:58.097861Z"
    }
   },
   "outputs": [],
   "source": [
    "model = Sequential()\n",
    "model.add(Dense(28 * 28, input_shape=(28 * 28,), activation='relu'))\n",
    "model.add(Dense(10, activation='sigmoid'))\n",
    "#model.summary()\n",
    "\n",
    "config = model.get_config()\n",
    "\n",
    "model.compile(loss='categorical_crossentropy', optimizer='SGD', metrics=['accuracy'])\n",
    "\n",
    "y_train = to_categorical(y_train_labels)\n",
    "y_test = to_categorical(y_test_labels)\n",
    "\n",
    "history_2 = model.fit(X_train, y_train,\n",
    "                    epochs=5,\n",
    "                    batch_size=64,\n",
    "                    verbose=0,\n",
    "                    validation_data=(X_test, y_test)\n",
    "                    )"
   ]
  },
  {
   "cell_type": "code",
   "execution_count": 13,
   "metadata": {
    "ExecuteTime": {
     "end_time": "2021-05-02T14:36:20.447645Z",
     "start_time": "2021-05-02T14:36:20.418644Z"
    }
   },
   "outputs": [
    {
     "data": {
      "text/html": [
       "<div>\n",
       "<style scoped>\n",
       "    .dataframe tbody tr th:only-of-type {\n",
       "        vertical-align: middle;\n",
       "    }\n",
       "\n",
       "    .dataframe tbody tr th {\n",
       "        vertical-align: top;\n",
       "    }\n",
       "\n",
       "    .dataframe thead th {\n",
       "        text-align: right;\n",
       "    }\n",
       "</style>\n",
       "<table border=\"1\" class=\"dataframe\">\n",
       "  <thead>\n",
       "    <tr style=\"text-align: right;\">\n",
       "      <th></th>\n",
       "      <th>architecture</th>\n",
       "      <th>train accuracy</th>\n",
       "      <th>val_accuracy</th>\n",
       "    </tr>\n",
       "  </thead>\n",
       "  <tbody>\n",
       "    <tr>\n",
       "      <th>1</th>\n",
       "      <td>2 layers, input=28</td>\n",
       "      <td>0.8331</td>\n",
       "      <td>0.8265</td>\n",
       "    </tr>\n",
       "    <tr>\n",
       "      <th>2</th>\n",
       "      <td>2 layers, input=28*28</td>\n",
       "      <td>0.8462</td>\n",
       "      <td>0.8362</td>\n",
       "    </tr>\n",
       "  </tbody>\n",
       "</table>\n",
       "</div>"
      ],
      "text/plain": [
       "            architecture  train accuracy  val_accuracy\n",
       "1     2 layers, input=28          0.8331        0.8265\n",
       "2  2 layers, input=28*28          0.8462        0.8362"
      ]
     },
     "execution_count": 13,
     "metadata": {},
     "output_type": "execute_result"
    }
   ],
   "source": [
    "df_.loc[2] = ['2 layers, input=28*28', history_2.history['accuracy'][-1],\\\n",
    "                 history_2.history['val_accuracy'][-1]]\n",
    "\n",
    "df_"
   ]
  },
  {
   "attachments": {},
   "cell_type": "markdown",
   "metadata": {},
   "source": [
    "#### 3-х слойная модель, входной слой = 28 нейронов"
   ]
  },
  {
   "cell_type": "code",
   "execution_count": 14,
   "metadata": {
    "ExecuteTime": {
     "end_time": "2021-05-02T14:36:27.293517Z",
     "start_time": "2021-05-02T14:36:20.449646Z"
    }
   },
   "outputs": [],
   "source": [
    "model = Sequential()\n",
    "model.add(Dense(28, input_shape=(28 * 28,), activation='relu'))\n",
    "model.add(Dense(18, activation='relu'))\n",
    "model.add(Dense(10, activation='sigmoid'))\n",
    "#model.summary()\n",
    "\n",
    "config = model.get_config()\n",
    "\n",
    "model.compile(loss='categorical_crossentropy', optimizer='SGD', metrics=['accuracy'])\n",
    "\n",
    "y_train = to_categorical(y_train_labels)\n",
    "y_test = to_categorical(y_test_labels)\n",
    "\n",
    "history_3 = model.fit(X_train, y_train,\n",
    "                    epochs=5,\n",
    "                    batch_size=64,\n",
    "                    verbose=0,\n",
    "                    validation_data=(X_test, y_test)е\n",
    "                    )"
   ]
  },
  {
   "cell_type": "code",
   "execution_count": 15,
   "metadata": {
    "ExecuteTime": {
     "end_time": "2021-05-02T14:36:27.346042Z",
     "start_time": "2021-05-02T14:36:27.297518Z"
    }
   },
   "outputs": [
    {
     "data": {
      "text/html": [
       "<div>\n",
       "<style scoped>\n",
       "    .dataframe tbody tr th:only-of-type {\n",
       "        vertical-align: middle;\n",
       "    }\n",
       "\n",
       "    .dataframe tbody tr th {\n",
       "        vertical-align: top;\n",
       "    }\n",
       "\n",
       "    .dataframe thead th {\n",
       "        text-align: right;\n",
       "    }\n",
       "</style>\n",
       "<table border=\"1\" class=\"dataframe\">\n",
       "  <thead>\n",
       "    <tr style=\"text-align: right;\">\n",
       "      <th></th>\n",
       "      <th>architecture</th>\n",
       "      <th>train accuracy</th>\n",
       "      <th>val_accuracy</th>\n",
       "    </tr>\n",
       "  </thead>\n",
       "  <tbody>\n",
       "    <tr>\n",
       "      <th>1</th>\n",
       "      <td>2 layers, input=28</td>\n",
       "      <td>0.833100</td>\n",
       "      <td>0.8265</td>\n",
       "    </tr>\n",
       "    <tr>\n",
       "      <th>2</th>\n",
       "      <td>2 layers, input=28*28</td>\n",
       "      <td>0.846200</td>\n",
       "      <td>0.8362</td>\n",
       "    </tr>\n",
       "    <tr>\n",
       "      <th>3</th>\n",
       "      <td>3 layers, input=28</td>\n",
       "      <td>0.836383</td>\n",
       "      <td>0.8219</td>\n",
       "    </tr>\n",
       "  </tbody>\n",
       "</table>\n",
       "</div>"
      ],
      "text/plain": [
       "            architecture  train accuracy  val_accuracy\n",
       "1     2 layers, input=28        0.833100        0.8265\n",
       "2  2 layers, input=28*28        0.846200        0.8362\n",
       "3     3 layers, input=28        0.836383        0.8219"
      ]
     },
     "execution_count": 15,
     "metadata": {},
     "output_type": "execute_result"
    }
   ],
   "source": [
    "df_.loc[3] = ['3 layers, input=28', history_3.history['accuracy'][-1],\\\n",
    "                 history_3.history['val_accuracy'][-1]]\n",
    "\n",
    "df_"
   ]
  },
  {
   "attachments": {},
   "cell_type": "markdown",
   "metadata": {},
   "source": [
    "#### 3-х слойная модель, входной слой = 28 * 28 нейронов"
   ]
  },
  {
   "cell_type": "code",
   "execution_count": 16,
   "metadata": {
    "ExecuteTime": {
     "end_time": "2021-05-02T14:37:03.835974Z",
     "start_time": "2021-05-02T14:36:27.349039Z"
    }
   },
   "outputs": [],
   "source": [
    "model = Sequential()\n",
    "model.add(Dense(28*28, input_shape=(28 * 28,), activation='relu'))\n",
    "model.add(Dense(392, activation='relu'))\n",
    "model.add(Dense(10, activation='sigmoid'))\n",
    "\n",
    "config = model.get_config()\n",
    "\n",
    "model.compile(loss='categorical_crossentropy', optimizer='SGD', metrics=['accuracy'])\n",
    "\n",
    "y_train = to_categorical(y_train_labels)\n",
    "y_test = to_categorical(y_test_labels)\n",
    "\n",
    "history_3 = model.fit(X_train, y_train,\n",
    "                    epochs=5,\n",
    "                    batch_size=64,\n",
    "                    verbose=0,\n",
    "                    validation_data=(X_test, y_test)\n",
    "                    )"
   ]
  },
  {
   "cell_type": "code",
   "execution_count": 17,
   "metadata": {
    "ExecuteTime": {
     "end_time": "2021-05-02T14:37:03.866977Z",
     "start_time": "2021-05-02T14:37:03.837976Z"
    }
   },
   "outputs": [
    {
     "data": {
      "text/html": [
       "<div>\n",
       "<style scoped>\n",
       "    .dataframe tbody tr th:only-of-type {\n",
       "        vertical-align: middle;\n",
       "    }\n",
       "\n",
       "    .dataframe tbody tr th {\n",
       "        vertical-align: top;\n",
       "    }\n",
       "\n",
       "    .dataframe thead th {\n",
       "        text-align: right;\n",
       "    }\n",
       "</style>\n",
       "<table border=\"1\" class=\"dataframe\">\n",
       "  <thead>\n",
       "    <tr style=\"text-align: right;\">\n",
       "      <th></th>\n",
       "      <th>architecture</th>\n",
       "      <th>train accuracy</th>\n",
       "      <th>val_accuracy</th>\n",
       "    </tr>\n",
       "  </thead>\n",
       "  <tbody>\n",
       "    <tr>\n",
       "      <th>1</th>\n",
       "      <td>2 layers, input=28</td>\n",
       "      <td>0.833100</td>\n",
       "      <td>0.8265</td>\n",
       "    </tr>\n",
       "    <tr>\n",
       "      <th>2</th>\n",
       "      <td>2 layers, input=28*28</td>\n",
       "      <td>0.846200</td>\n",
       "      <td>0.8362</td>\n",
       "    </tr>\n",
       "    <tr>\n",
       "      <th>3</th>\n",
       "      <td>3 layers, input=28</td>\n",
       "      <td>0.836383</td>\n",
       "      <td>0.8219</td>\n",
       "    </tr>\n",
       "    <tr>\n",
       "      <th>4</th>\n",
       "      <td>3 layers, input=28*28</td>\n",
       "      <td>0.854867</td>\n",
       "      <td>0.8403</td>\n",
       "    </tr>\n",
       "  </tbody>\n",
       "</table>\n",
       "</div>"
      ],
      "text/plain": [
       "            architecture  train accuracy  val_accuracy\n",
       "1     2 layers, input=28        0.833100        0.8265\n",
       "2  2 layers, input=28*28        0.846200        0.8362\n",
       "3     3 layers, input=28        0.836383        0.8219\n",
       "4  3 layers, input=28*28        0.854867        0.8403"
      ]
     },
     "execution_count": 17,
     "metadata": {},
     "output_type": "execute_result"
    }
   ],
   "source": [
    "df_.loc[4] = ['3 layers, input=28*28', history_3.history['accuracy'][-1],\\\n",
    "                 history_3.history['val_accuracy'][-1]]\n",
    "\n",
    "df_"
   ]
  },
  {
   "attachments": {},
   "cell_type": "markdown",
   "metadata": {},
   "source": [
    "#### 5-ти слойная модель, входной слой = 28 нейронов"
   ]
  },
  {
   "cell_type": "code",
   "execution_count": 18,
   "metadata": {
    "ExecuteTime": {
     "end_time": "2021-05-02T14:37:09.373477Z",
     "start_time": "2021-05-02T14:37:03.868976Z"
    }
   },
   "outputs": [],
   "source": [
    "model = Sequential()\n",
    "model.add(Dense(28, input_shape=(28 * 28,), activation='relu'))\n",
    "model.add(Dense(24, activation='relu'))\n",
    "model.add(Dense(18, activation='relu'))\n",
    "model.add(Dense(14, activation='relu'))\n",
    "model.add(Dense(10, activation='sigmoid'))\n",
    "\n",
    "config = model.get_config()\n",
    "\n",
    "model.compile(loss='categorical_crossentropy', optimizer='SGD', metrics=['accuracy'])\n",
    "\n",
    "y_train = to_categorical(y_train_labels)\n",
    "y_test = to_categorical(y_test_labels)\n",
    "\n",
    "history_5 = model.fit(X_train, y_train,\n",
    "                    epochs=5,\n",
    "                    batch_size=64,\n",
    "                    verbose=0,\n",
    "                    validation_data=(X_test, y_test)\n",
    "                    )"
   ]
  },
  {
   "cell_type": "code",
   "execution_count": 19,
   "metadata": {
    "ExecuteTime": {
     "end_time": "2021-05-02T14:37:09.404693Z",
     "start_time": "2021-05-02T14:37:09.374482Z"
    }
   },
   "outputs": [
    {
     "data": {
      "text/html": [
       "<div>\n",
       "<style scoped>\n",
       "    .dataframe tbody tr th:only-of-type {\n",
       "        vertical-align: middle;\n",
       "    }\n",
       "\n",
       "    .dataframe tbody tr th {\n",
       "        vertical-align: top;\n",
       "    }\n",
       "\n",
       "    .dataframe thead th {\n",
       "        text-align: right;\n",
       "    }\n",
       "</style>\n",
       "<table border=\"1\" class=\"dataframe\">\n",
       "  <thead>\n",
       "    <tr style=\"text-align: right;\">\n",
       "      <th></th>\n",
       "      <th>architecture</th>\n",
       "      <th>train accuracy</th>\n",
       "      <th>val_accuracy</th>\n",
       "    </tr>\n",
       "  </thead>\n",
       "  <tbody>\n",
       "    <tr>\n",
       "      <th>1</th>\n",
       "      <td>2 layers, input=28</td>\n",
       "      <td>0.833100</td>\n",
       "      <td>0.8265</td>\n",
       "    </tr>\n",
       "    <tr>\n",
       "      <th>2</th>\n",
       "      <td>2 layers, input=28*28</td>\n",
       "      <td>0.846200</td>\n",
       "      <td>0.8362</td>\n",
       "    </tr>\n",
       "    <tr>\n",
       "      <th>3</th>\n",
       "      <td>3 layers, input=28</td>\n",
       "      <td>0.836383</td>\n",
       "      <td>0.8219</td>\n",
       "    </tr>\n",
       "    <tr>\n",
       "      <th>4</th>\n",
       "      <td>3 layers, input=28*28</td>\n",
       "      <td>0.854867</td>\n",
       "      <td>0.8403</td>\n",
       "    </tr>\n",
       "    <tr>\n",
       "      <th>5</th>\n",
       "      <td>5 layers, input=28</td>\n",
       "      <td>0.825967</td>\n",
       "      <td>0.8113</td>\n",
       "    </tr>\n",
       "  </tbody>\n",
       "</table>\n",
       "</div>"
      ],
      "text/plain": [
       "            architecture  train accuracy  val_accuracy\n",
       "1     2 layers, input=28        0.833100        0.8265\n",
       "2  2 layers, input=28*28        0.846200        0.8362\n",
       "3     3 layers, input=28        0.836383        0.8219\n",
       "4  3 layers, input=28*28        0.854867        0.8403\n",
       "5     5 layers, input=28        0.825967        0.8113"
      ]
     },
     "execution_count": 19,
     "metadata": {},
     "output_type": "execute_result"
    }
   ],
   "source": [
    "df_.loc[5] = ['5 layers, input=28', history_5.history['accuracy'][-1],\\\n",
    "                 history_5.history['val_accuracy'][-1]]\n",
    "\n",
    "df_"
   ]
  },
  {
   "attachments": {},
   "cell_type": "markdown",
   "metadata": {},
   "source": [
    "#### 5-ти слойная модель, входной слой = 28 * 28 нейронов"
   ]
  },
  {
   "cell_type": "code",
   "execution_count": 20,
   "metadata": {
    "ExecuteTime": {
     "end_time": "2021-05-02T14:37:37.594505Z",
     "start_time": "2021-05-02T14:37:09.406692Z"
    }
   },
   "outputs": [],
   "source": [
    "model = Sequential()\n",
    "model.add(Dense(28 * 28, input_shape=(28 * 28,), activation='relu'))\n",
    "model.add(Dense(196, activation='relu'))\n",
    "model.add(Dense(98, activation='relu'))\n",
    "model.add(Dense(49, activation='relu'))\n",
    "model.add(Dense(10, activation='sigmoid'))\n",
    "\n",
    "config = model.get_config()\n",
    "\n",
    "model.compile(loss='categorical_crossentropy', optimizer='SGD', metrics=['accuracy'])\n",
    "\n",
    "y_train = to_categorical(y_train_labels)\n",
    "y_test = to_categorical(y_test_labels)\n",
    "\n",
    "history_5 = model.fit(X_train, y_train,\n",
    "                    epochs=5,\n",
    "                    batch_size=64,\n",
    "                    verbose=0,\n",
    "                    validation_data=(X_test, y_test)\n",
    "                    )"
   ]
  },
  {
   "cell_type": "code",
   "execution_count": 21,
   "metadata": {
    "ExecuteTime": {
     "end_time": "2021-05-02T14:37:37.626024Z",
     "start_time": "2021-05-02T14:37:37.597026Z"
    }
   },
   "outputs": [
    {
     "data": {
      "text/html": [
       "<div>\n",
       "<style scoped>\n",
       "    .dataframe tbody tr th:only-of-type {\n",
       "        vertical-align: middle;\n",
       "    }\n",
       "\n",
       "    .dataframe tbody tr th {\n",
       "        vertical-align: top;\n",
       "    }\n",
       "\n",
       "    .dataframe thead th {\n",
       "        text-align: right;\n",
       "    }\n",
       "</style>\n",
       "<table border=\"1\" class=\"dataframe\">\n",
       "  <thead>\n",
       "    <tr style=\"text-align: right;\">\n",
       "      <th></th>\n",
       "      <th>architecture</th>\n",
       "      <th>train accuracy</th>\n",
       "      <th>val_accuracy</th>\n",
       "    </tr>\n",
       "  </thead>\n",
       "  <tbody>\n",
       "    <tr>\n",
       "      <th>1</th>\n",
       "      <td>2 layers, input=28</td>\n",
       "      <td>0.833100</td>\n",
       "      <td>0.8265</td>\n",
       "    </tr>\n",
       "    <tr>\n",
       "      <th>2</th>\n",
       "      <td>2 layers, input=28*28</td>\n",
       "      <td>0.846200</td>\n",
       "      <td>0.8362</td>\n",
       "    </tr>\n",
       "    <tr>\n",
       "      <th>3</th>\n",
       "      <td>3 layers, input=28</td>\n",
       "      <td>0.836383</td>\n",
       "      <td>0.8219</td>\n",
       "    </tr>\n",
       "    <tr>\n",
       "      <th>4</th>\n",
       "      <td>3 layers, input=28*28</td>\n",
       "      <td>0.854867</td>\n",
       "      <td>0.8403</td>\n",
       "    </tr>\n",
       "    <tr>\n",
       "      <th>5</th>\n",
       "      <td>5 layers, input=28</td>\n",
       "      <td>0.825967</td>\n",
       "      <td>0.8113</td>\n",
       "    </tr>\n",
       "    <tr>\n",
       "      <th>6</th>\n",
       "      <td>5 layers, input=28*28</td>\n",
       "      <td>0.861367</td>\n",
       "      <td>0.8182</td>\n",
       "    </tr>\n",
       "  </tbody>\n",
       "</table>\n",
       "</div>"
      ],
      "text/plain": [
       "            architecture  train accuracy  val_accuracy\n",
       "1     2 layers, input=28        0.833100        0.8265\n",
       "2  2 layers, input=28*28        0.846200        0.8362\n",
       "3     3 layers, input=28        0.836383        0.8219\n",
       "4  3 layers, input=28*28        0.854867        0.8403\n",
       "5     5 layers, input=28        0.825967        0.8113\n",
       "6  5 layers, input=28*28        0.861367        0.8182"
      ]
     },
     "execution_count": 21,
     "metadata": {},
     "output_type": "execute_result"
    }
   ],
   "source": [
    "df_.loc[6] = ['5 layers, input=28*28', history_5.history['accuracy'][-1],\\\n",
    "                 history_5.history['val_accuracy'][-1]]\n",
    "\n",
    "df_"
   ]
  },
  {
   "attachments": {},
   "cell_type": "markdown",
   "metadata": {},
   "source": [
    "#### 10-ти слойная модель, входной слой = 28 нейронов"
   ]
  },
  {
   "cell_type": "code",
   "execution_count": 22,
   "metadata": {
    "ExecuteTime": {
     "end_time": "2021-05-02T14:37:46.445332Z",
     "start_time": "2021-05-02T14:37:37.632028Z"
    }
   },
   "outputs": [],
   "source": [
    "model = Sequential()\n",
    "model.add(Dense(28, input_shape=(28 * 28,), activation='relu'))\n",
    "model.add(Dense(26, activation='relu'))\n",
    "model.add(Dense(24, activation='relu'))\n",
    "model.add(Dense(22, activation='relu'))\n",
    "model.add(Dense(20, activation='relu'))\n",
    "model.add(Dense(18, activation='relu'))\n",
    "model.add(Dense(16, activation='relu'))\n",
    "model.add(Dense(14, activation='relu'))\n",
    "model.add(Dense(12, activation='relu'))\n",
    "model.add(Dense(10, activation='sigmoid'))\n",
    "\n",
    "config = model.get_config()\n",
    "\n",
    "model.compile(loss='categorical_crossentropy', optimizer='SGD', metrics=['accuracy'])\n",
    "\n",
    "y_train = to_categorical(y_train_labels)\n",
    "y_test = to_categorical(y_test_labels)\n",
    "\n",
    "history_10 = model.fit(X_train, y_train,\n",
    "                    epochs=5,\n",
    "                    batch_size=64,\n",
    "                    verbose=0,\n",
    "                    validation_data=(X_test, y_test)\n",
    "                    )"
   ]
  },
  {
   "cell_type": "code",
   "execution_count": 23,
   "metadata": {
    "ExecuteTime": {
     "end_time": "2021-05-02T14:37:46.477334Z",
     "start_time": "2021-05-02T14:37:46.448333Z"
    }
   },
   "outputs": [
    {
     "data": {
      "text/html": [
       "<div>\n",
       "<style scoped>\n",
       "    .dataframe tbody tr th:only-of-type {\n",
       "        vertical-align: middle;\n",
       "    }\n",
       "\n",
       "    .dataframe tbody tr th {\n",
       "        vertical-align: top;\n",
       "    }\n",
       "\n",
       "    .dataframe thead th {\n",
       "        text-align: right;\n",
       "    }\n",
       "</style>\n",
       "<table border=\"1\" class=\"dataframe\">\n",
       "  <thead>\n",
       "    <tr style=\"text-align: right;\">\n",
       "      <th></th>\n",
       "      <th>architecture</th>\n",
       "      <th>train accuracy</th>\n",
       "      <th>val_accuracy</th>\n",
       "    </tr>\n",
       "  </thead>\n",
       "  <tbody>\n",
       "    <tr>\n",
       "      <th>1</th>\n",
       "      <td>2 layers, input=28</td>\n",
       "      <td>0.833100</td>\n",
       "      <td>0.8265</td>\n",
       "    </tr>\n",
       "    <tr>\n",
       "      <th>2</th>\n",
       "      <td>2 layers, input=28*28</td>\n",
       "      <td>0.846200</td>\n",
       "      <td>0.8362</td>\n",
       "    </tr>\n",
       "    <tr>\n",
       "      <th>3</th>\n",
       "      <td>3 layers, input=28</td>\n",
       "      <td>0.836383</td>\n",
       "      <td>0.8219</td>\n",
       "    </tr>\n",
       "    <tr>\n",
       "      <th>4</th>\n",
       "      <td>3 layers, input=28*28</td>\n",
       "      <td>0.854867</td>\n",
       "      <td>0.8403</td>\n",
       "    </tr>\n",
       "    <tr>\n",
       "      <th>5</th>\n",
       "      <td>5 layers, input=28</td>\n",
       "      <td>0.825967</td>\n",
       "      <td>0.8113</td>\n",
       "    </tr>\n",
       "    <tr>\n",
       "      <th>6</th>\n",
       "      <td>5 layers, input=28*28</td>\n",
       "      <td>0.861367</td>\n",
       "      <td>0.8182</td>\n",
       "    </tr>\n",
       "    <tr>\n",
       "      <th>7</th>\n",
       "      <td>10 layers, input=28</td>\n",
       "      <td>0.813000</td>\n",
       "      <td>0.7965</td>\n",
       "    </tr>\n",
       "  </tbody>\n",
       "</table>\n",
       "</div>"
      ],
      "text/plain": [
       "            architecture  train accuracy  val_accuracy\n",
       "1     2 layers, input=28        0.833100        0.8265\n",
       "2  2 layers, input=28*28        0.846200        0.8362\n",
       "3     3 layers, input=28        0.836383        0.8219\n",
       "4  3 layers, input=28*28        0.854867        0.8403\n",
       "5     5 layers, input=28        0.825967        0.8113\n",
       "6  5 layers, input=28*28        0.861367        0.8182\n",
       "7    10 layers, input=28        0.813000        0.7965"
      ]
     },
     "execution_count": 23,
     "metadata": {},
     "output_type": "execute_result"
    }
   ],
   "source": [
    "df_.loc[7] = ['10 layers, input=28', history_10.history['accuracy'][-1],\\\n",
    "                 history_10.history['val_accuracy'][-1]]\n",
    "\n",
    "df_"
   ]
  },
  {
   "attachments": {},
   "cell_type": "markdown",
   "metadata": {},
   "source": [
    "#### 10-ти слойная модель, входной слой = 28 * 28 нейронов"
   ]
  },
  {
   "cell_type": "code",
   "execution_count": 24,
   "metadata": {
    "ExecuteTime": {
     "end_time": "2021-05-02T14:38:30.610498Z",
     "start_time": "2021-05-02T14:37:46.478335Z"
    }
   },
   "outputs": [],
   "source": [
    "model = Sequential()\n",
    "model.add(Dense(28 * 28, input_shape=(28 * 28,), activation='relu'))\n",
    "model.add(Dense(392, activation='relu'))\n",
    "model.add(Dense(296, activation='relu'))\n",
    "model.add(Dense(180, activation='relu'))\n",
    "model.add(Dense(110, activation='relu'))\n",
    "model.add(Dense(70, activation='relu'))\n",
    "model.add(Dense(42, activation='relu'))\n",
    "model.add(Dense(26, activation='relu'))\n",
    "model.add(Dense(16, activation='relu'))\n",
    "model.add(Dense(10, activation='sigmoid'))\n",
    "\n",
    "config = model.get_config()\n",
    "\n",
    "model.compile(loss='categorical_crossentropy', optimizer='SGD', metrics=['accuracy'])\n",
    "\n",
    "y_train = to_categorical(y_train_labels)\n",
    "y_test = to_categorical(y_test_labels)\n",
    "\n",
    "history_10_ = model.fit(X_train, y_train,\n",
    "                    epochs=5,\n",
    "                    batch_size=64,\n",
    "                    verbose=0,\n",
    "                    validation_data=(X_test, y_test)\n",
    "                    )"
   ]
  },
  {
   "cell_type": "code",
   "execution_count": 25,
   "metadata": {
    "ExecuteTime": {
     "end_time": "2021-05-02T14:38:30.642496Z",
     "start_time": "2021-05-02T14:38:30.613501Z"
    }
   },
   "outputs": [
    {
     "data": {
      "text/html": [
       "<div>\n",
       "<style scoped>\n",
       "    .dataframe tbody tr th:only-of-type {\n",
       "        vertical-align: middle;\n",
       "    }\n",
       "\n",
       "    .dataframe tbody tr th {\n",
       "        vertical-align: top;\n",
       "    }\n",
       "\n",
       "    .dataframe thead th {\n",
       "        text-align: right;\n",
       "    }\n",
       "</style>\n",
       "<table border=\"1\" class=\"dataframe\">\n",
       "  <thead>\n",
       "    <tr style=\"text-align: right;\">\n",
       "      <th></th>\n",
       "      <th>architecture</th>\n",
       "      <th>train accuracy</th>\n",
       "      <th>val_accuracy</th>\n",
       "    </tr>\n",
       "  </thead>\n",
       "  <tbody>\n",
       "    <tr>\n",
       "      <th>1</th>\n",
       "      <td>2 layers, input=28</td>\n",
       "      <td>0.833100</td>\n",
       "      <td>0.8265</td>\n",
       "    </tr>\n",
       "    <tr>\n",
       "      <th>2</th>\n",
       "      <td>2 layers, input=28*28</td>\n",
       "      <td>0.846200</td>\n",
       "      <td>0.8362</td>\n",
       "    </tr>\n",
       "    <tr>\n",
       "      <th>3</th>\n",
       "      <td>3 layers, input=28</td>\n",
       "      <td>0.836383</td>\n",
       "      <td>0.8219</td>\n",
       "    </tr>\n",
       "    <tr>\n",
       "      <th>4</th>\n",
       "      <td>3 layers, input=28*28</td>\n",
       "      <td>0.854867</td>\n",
       "      <td>0.8403</td>\n",
       "    </tr>\n",
       "    <tr>\n",
       "      <th>5</th>\n",
       "      <td>5 layers, input=28</td>\n",
       "      <td>0.825967</td>\n",
       "      <td>0.8113</td>\n",
       "    </tr>\n",
       "    <tr>\n",
       "      <th>6</th>\n",
       "      <td>5 layers, input=28*28</td>\n",
       "      <td>0.861367</td>\n",
       "      <td>0.8182</td>\n",
       "    </tr>\n",
       "    <tr>\n",
       "      <th>7</th>\n",
       "      <td>10 layers, input=28</td>\n",
       "      <td>0.813000</td>\n",
       "      <td>0.7965</td>\n",
       "    </tr>\n",
       "    <tr>\n",
       "      <th>8</th>\n",
       "      <td>10 layers, input=28*28</td>\n",
       "      <td>0.856033</td>\n",
       "      <td>0.8360</td>\n",
       "    </tr>\n",
       "  </tbody>\n",
       "</table>\n",
       "</div>"
      ],
      "text/plain": [
       "             architecture  train accuracy  val_accuracy\n",
       "1      2 layers, input=28        0.833100        0.8265\n",
       "2   2 layers, input=28*28        0.846200        0.8362\n",
       "3      3 layers, input=28        0.836383        0.8219\n",
       "4   3 layers, input=28*28        0.854867        0.8403\n",
       "5      5 layers, input=28        0.825967        0.8113\n",
       "6   5 layers, input=28*28        0.861367        0.8182\n",
       "7     10 layers, input=28        0.813000        0.7965\n",
       "8  10 layers, input=28*28        0.856033        0.8360"
      ]
     },
     "execution_count": 25,
     "metadata": {},
     "output_type": "execute_result"
    }
   ],
   "source": [
    "df_.loc[8] = ['10 layers, input=28*28', history_10_.history['accuracy'][-1],\\\n",
    "                 history_10_.history['val_accuracy'][-1]]\n",
    "\n",
    "df_"
   ]
  },
  {
   "cell_type": "code",
   "execution_count": 40,
   "metadata": {
    "ExecuteTime": {
     "end_time": "2021-05-02T15:47:42.665510Z",
     "start_time": "2021-05-02T15:47:42.453509Z"
    }
   },
   "outputs": [
    {
     "data": {
      "image/png": "[encoded data removed]",
      "text/plain": [
       "<Figure size 1008x432 with 1 Axes>"
      ]
     },
     "metadata": {
      "needs_background": "light"
     },
     "output_type": "display_data"
    }
   ],
   "source": [
    "plt.figure(figsize=(14,6)) \n",
    "plt.plot(df_['architecture'], df_['train accuracy'], label='train accuracy')\n",
    "plt.plot(df_['architecture'], df_['val_accuracy'], label='val_accuracy')\n",
    "plt.xticks(rotation=45)\n",
    "plt.legend();"
   ]
  },
  {
   "attachments": {},
   "cell_type": "markdown",
   "metadata": {},
   "source": [
    "**Вывод**: большее количества слоёв при одинаковом количестве эпох делает скор хуже."
   ]
  },
  {
   "attachments": {},
   "cell_type": "markdown",
   "metadata": {},
   "source": [
    "**Для дальнейшей работы возьму модель с лучшими метриками. Это 3-х слойная модель, входной слой = 28 * 28 нейронов**."
   ]
  },
  {
   "cell_type": "code",
   "execution_count": 42,
   "metadata": {
    "ExecuteTime": {
     "end_time": "2021-05-02T15:58:02.162952Z",
     "start_time": "2021-05-02T15:58:02.153960Z"
    }
   },
   "outputs": [
    {
     "data": {
      "text/plain": [
       "<tensorflow.python.keras.optimizer_v2.adam.Adam at 0x1b4edf47cd0>"
      ]
     },
     "execution_count": 42,
     "metadata": {},
     "output_type": "execute_result"
    }
   ],
   "source": [
    "SGD(learning_rate=0.01, momentum=0.5)\n",
    "Adagrad(learning_rate=0.001, initial_accumulator_value=0.1, epsilon=1e-07)\n",
    "RMSprop(learning_rate=0.001, rho=0.9, epsilon=1e-07)\n",
    "Adam(learning_rate=0.001, beta_1=0.9, beta_2=0.999, epsilon=1e-07)"
   ]
  },
  {
   "cell_type": "code",
   "execution_count": 45,
   "metadata": {
    "ExecuteTime": {
     "end_time": "2021-05-02T16:14:04.775609Z",
     "start_time": "2021-05-02T16:09:48.907537Z"
    }
   },
   "outputs": [
    {
     "name": "stderr",
     "output_type": "stream",
     "text": [
      "4it [04:15, 63.88s/it]\n"
     ]
    },
    {
     "data": {
      "image/png": "[encoded data removed]",
      "text/plain": [
       "<Figure size 1152x504 with 1 Axes>"
      ]
     },
     "metadata": {
      "needs_background": "light"
     },
     "output_type": "display_data"
    },
    {
     "name": "stdout",
     "output_type": "stream",
     "text": [
      "Wall time: 4min 15s\n"
     ]
    }
   ],
   "source": [
    "%%time\n",
    "tf.random.set_seed(1)\n",
    "\n",
    "models = {}\n",
    "\n",
    "plt.figure(figsize=(16, 7))\n",
    "colors = ['g', 'b', 'r', 'y']\n",
    "\n",
    "num_epochs = 5\n",
    "batch_size = 32\n",
    "\n",
    "epoch = np.arange(num_epochs+1)\n",
    "\n",
    "for i, i_optim in enumerate([keras.optimizers.SGD(),\n",
    "                             keras.optimizers.Adagrad(),\n",
    "                             keras.optimizers.RMSprop(),\n",
    "                             keras.optimizers.Adam()]):\n",
    "    \n",
    "    model_i = Sequential([\n",
    "        Dense(28 * 28, activation='relu', input_shape=(28 * 28,)),\n",
    "        Dense(392, activation='relu'),\n",
    "        Dense(10, activation='sigmoid'),\n",
    "    ])\n",
    "    \n",
    "    model_i.compile(\n",
    "        optimizer=i_optim,\n",
    "        loss='categorical_crossentropy',\n",
    "        metrics=['accuracy'],\n",
    "        )\n",
    "    \n",
    "    h0_train = model_i.evaluate(X_train, y_train, verbose=0)\n",
    "    h0_val = model_i.evaluate(X_test, y_test, verbose=0)\n",
    "\n",
    "    h = model_i.fit(X_train, y_train,\n",
    "                    epochs=num_epochs,\n",
    "                    batch_size=batch_size,\n",
    "                    validation_data=(X_test, y_test),\n",
    "                    verbose=0)\n",
    "\n",
    "    models[i_optim.get_config()['name']] = model_i\n",
    "\n",
    "    plt.plot(epoch, np.log([h0_train[0]] + h.history['loss']),\n",
    "             '-', c=colors[i],\n",
    "             label=model_i.optimizer.get_config()['name'] + ' train')\n",
    "    plt.plot(epoch, np.log([h0_val[0]] + h.history['val_loss']),\n",
    "             '--', c=colors[i],\n",
    "             label=model_i.optimizer.get_config()['name'] + ' val')\n",
    "\n",
    "plt.legend()\n",
    "plt.title('нейросети от оптимизатора log(loss)')\n",
    "plt.xlabel('epoch')\n",
    "plt.ylabel('log(loss)')\n",
    "plt.show()"
   ]
  },
  {
   "cell_type": "code",
   "execution_count": 56,
   "metadata": {
    "ExecuteTime": {
     "end_time": "2021-05-02T16:19:15.207875Z",
     "start_time": "2021-05-02T16:19:15.190872Z"
    }
   },
   "outputs": [
    {
     "data": {
      "text/plain": [
       "{'loss': [0.46585819125175476,\n",
       "  0.3515257239341736,\n",
       "  0.31976771354675293,\n",
       "  0.29703643918037415,\n",
       "  0.2781214416027069],\n",
       " 'accuracy': [0.8317833542823792,\n",
       "  0.8707500100135803,\n",
       "  0.8815666437149048,\n",
       "  0.8895000219345093,\n",
       "  0.8954333066940308],\n",
       " 'val_loss': [0.4576747417449951,\n",
       "  0.3737759590148926,\n",
       "  0.3720061480998993,\n",
       "  0.3512427806854248,\n",
       "  0.34509506821632385],\n",
       " 'val_accuracy': [0.8305000066757202,\n",
       "  0.8639000058174133,\n",
       "  0.8672000169754028,\n",
       "  0.8704000115394592,\n",
       "  0.8797000050544739]}"
      ]
     },
     "execution_count": 56,
     "metadata": {},
     "output_type": "execute_result"
    }
   ],
   "source": [
    "h.history"
   ]
  },
  {
   "attachments": {},
   "cell_type": "markdown",
   "metadata": {},
   "source": [
    "**Вывод**: у модели без оптимизатора ско = 0.8403. С оптимизатором Адам = 0.8797.\n",
    "\n",
    "Оптимизатор помог улучшить качество."
   ]
  }
 ],
 "metadata": {
  "kernelspec": {
   "display_name": "Python 3",
   "language": "python",
   "name": "python3"
  },
  "language_info": {
   "codemirror_mode": {
    "name": "ipython",
    "version": 3
   },
   "file_extension": ".py",
   "mimetype": "text/x-python",
   "name": "python",
   "nbconvert_exporter": "python",
   "pygments_lexer": "ipython3",
   "version": "3.8.5"
  },
  "toc": {
   "base_numbering": 1,
   "nav_menu": {},
   "number_sections": false,
   "sideBar": true,
   "skip_h1_title": false,
   "title_cell": "Table of Contents",
   "title_sidebar": "Contents",
   "toc_cell": false,
   "toc_position": {
    "height": "calc(100% - 180px)",
    "left": "10px",
    "top": "150px",
    "width": "307.2px"
   },
   "toc_section_display": true,
   "toc_window_display": true
  },
  "varInspector": {
   "cols": {
    "lenName": 16,
    "lenType": 16,
    "lenVar": 40
   },
   "kernels_config": {
    "python": {
     "delete_cmd_postfix": "",
     "delete_cmd_prefix": "del ",
     "library": "var_list.py",
     "varRefreshCmd": "print(var_dic_list())"
    },
    "r": {
     "delete_cmd_postfix": ") ",
     "delete_cmd_prefix": "rm(",
     "library": "var_list.r",
     "varRefreshCmd": "cat(var_dic_list()) "
    }
   },
   "position": {
    "height": "485.4px",
    "left": "547px",
    "right": "20px",
    "top": "47px",
    "width": "596px"
   },
   "types_to_exclude": [
    "module",
    "function",
    "builtin_function_or_method",
    "instance",
    "_Feature"
   ],
   "window_display": false
  }
 },
 "nbformat": 4,
 "nbformat_minor": 4
}
