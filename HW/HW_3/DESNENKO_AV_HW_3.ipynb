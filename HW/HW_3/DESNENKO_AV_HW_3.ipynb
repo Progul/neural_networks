{
 "cells": [
  {
   "attachments": {},
   "cell_type": "markdown",
   "metadata": {},
   "source": [
    "## Домашняя работа 3 TensorFlov\n",
    "\n",
    "### Задание:\n",
    "\n",
    "Постройте нейронную сеть (берем несложную полносвязную сеть, меняем число слоев, число нейронов, типы активации, тип оптимизатора) на датасете from sklearn.datasets import load_boston.\n",
    "\n",
    "Постройте 10-15 вариантов разных нейронных сетей и сведите результаты их работы в таблицу. Опишите, какого результата вы добились от нейросети? Что помогло вам улучшить ее точность?"
   ]
  },
  {
   "attachments": {},
   "cell_type": "markdown",
   "metadata": {},
   "source": [
    "# Загрузка данных"
   ]
  },
  {
   "cell_type": "code",
   "execution_count": null,
   "metadata": {},
   "outputs": [],
   "source": [
    "import matplotlib.pyplot as plt\n",
    "import numpy as np\n",
    "import pandas as pd\n",
    "from tqdm import tqdm\n",
    "import itertools\n",
    "from sklearn.metrics import confusion_matrix, ConfusionMatrixDisplay\n",
    "from sklearn.model_selection import train_test_split\n",
    "from sklearn.preprocessing import MinMaxScaler, StandardScaler\n",
    "from sklearn.metrics import mean_squared_error, r2_score\n",
    "\n",
    "from sklearn.metrics import mean_squared_error as sklearn_mean_squared_error \n",
    "\n",
    "import tensorflow as tf\n",
    "from tensorflow.keras.datasets import mnist\n",
    "from sklearn.datasets import load_boston\n",
    "from tensorflow.keras.models import Sequential, Model\n",
    "from tensorflow.keras.layers import Input, Flatten, Dense\n",
    "from tensorflow.keras.utils import to_categorical, plot_model\n",
    "from tensorflow.keras.optimizers import Adam, SGD\n",
    "from tensorflow.keras.losses import CategoricalCrossentropy, SparseCategoricalCrossentropy, mean_squared_error \n",
    "from tensorflow.keras.metrics import RootMeanSquaredError, MeanSquaredError\n",
    "from keras.callbacks import EarlyStopping"
   ]
  },
  {
   "cell_type": "code",
   "execution_count": 2,
   "metadata": {
    "ExecuteTime": {
     "end_time": "2021-05-10T22:38:12.552549Z",
     "start_time": "2021-05-10T22:38:12.441505Z"
    }
   },
   "outputs": [
    {
     "name": "stdout",
     "output_type": "stream",
     "text": [
      "(506, 14)\n"
     ]
    },
    {
     "data": {
      "text/html": [
       "<div>\n",
       "<style scoped>\n",
       "    .dataframe tbody tr th:only-of-type {\n",
       "        vertical-align: middle;\n",
       "    }\n",
       "\n",
       "    .dataframe tbody tr th {\n",
       "        vertical-align: top;\n",
       "    }\n",
       "\n",
       "    .dataframe thead th {\n",
       "        text-align: right;\n",
       "    }\n",
       "</style>\n",
       "<table border=\"1\" class=\"dataframe\">\n",
       "  <thead>\n",
       "    <tr style=\"text-align: right;\">\n",
       "      <th></th>\n",
       "      <th>CRIM</th>\n",
       "      <th>ZN</th>\n",
       "      <th>INDUS</th>\n",
       "      <th>CHAS</th>\n",
       "      <th>NOX</th>\n",
       "      <th>RM</th>\n",
       "      <th>AGE</th>\n",
       "      <th>DIS</th>\n",
       "      <th>RAD</th>\n",
       "      <th>TAX</th>\n",
       "      <th>PTRATIO</th>\n",
       "      <th>B</th>\n",
       "      <th>LSTAT</th>\n",
       "      <th>target</th>\n",
       "    </tr>\n",
       "  </thead>\n",
       "  <tbody>\n",
       "    <tr>\n",
       "      <th>0</th>\n",
       "      <td>0.00632</td>\n",
       "      <td>18.0</td>\n",
       "      <td>2.31</td>\n",
       "      <td>0.0</td>\n",
       "      <td>0.538</td>\n",
       "      <td>6.575</td>\n",
       "      <td>65.2</td>\n",
       "      <td>4.0900</td>\n",
       "      <td>1.0</td>\n",
       "      <td>296.0</td>\n",
       "      <td>15.3</td>\n",
       "      <td>396.90</td>\n",
       "      <td>4.98</td>\n",
       "      <td>24.0</td>\n",
       "    </tr>\n",
       "    <tr>\n",
       "      <th>1</th>\n",
       "      <td>0.02731</td>\n",
       "      <td>0.0</td>\n",
       "      <td>7.07</td>\n",
       "      <td>0.0</td>\n",
       "      <td>0.469</td>\n",
       "      <td>6.421</td>\n",
       "      <td>78.9</td>\n",
       "      <td>4.9671</td>\n",
       "      <td>2.0</td>\n",
       "      <td>242.0</td>\n",
       "      <td>17.8</td>\n",
       "      <td>396.90</td>\n",
       "      <td>9.14</td>\n",
       "      <td>21.6</td>\n",
       "    </tr>\n",
       "    <tr>\n",
       "      <th>2</th>\n",
       "      <td>0.02729</td>\n",
       "      <td>0.0</td>\n",
       "      <td>7.07</td>\n",
       "      <td>0.0</td>\n",
       "      <td>0.469</td>\n",
       "      <td>7.185</td>\n",
       "      <td>61.1</td>\n",
       "      <td>4.9671</td>\n",
       "      <td>2.0</td>\n",
       "      <td>242.0</td>\n",
       "      <td>17.8</td>\n",
       "      <td>392.83</td>\n",
       "      <td>4.03</td>\n",
       "      <td>34.7</td>\n",
       "    </tr>\n",
       "    <tr>\n",
       "      <th>3</th>\n",
       "      <td>0.03237</td>\n",
       "      <td>0.0</td>\n",
       "      <td>2.18</td>\n",
       "      <td>0.0</td>\n",
       "      <td>0.458</td>\n",
       "      <td>6.998</td>\n",
       "      <td>45.8</td>\n",
       "      <td>6.0622</td>\n",
       "      <td>3.0</td>\n",
       "      <td>222.0</td>\n",
       "      <td>18.7</td>\n",
       "      <td>394.63</td>\n",
       "      <td>2.94</td>\n",
       "      <td>33.4</td>\n",
       "    </tr>\n",
       "    <tr>\n",
       "      <th>4</th>\n",
       "      <td>0.06905</td>\n",
       "      <td>0.0</td>\n",
       "      <td>2.18</td>\n",
       "      <td>0.0</td>\n",
       "      <td>0.458</td>\n",
       "      <td>7.147</td>\n",
       "      <td>54.2</td>\n",
       "      <td>6.0622</td>\n",
       "      <td>3.0</td>\n",
       "      <td>222.0</td>\n",
       "      <td>18.7</td>\n",
       "      <td>396.90</td>\n",
       "      <td>5.33</td>\n",
       "      <td>36.2</td>\n",
       "    </tr>\n",
       "  </tbody>\n",
       "</table>\n",
       "</div>"
      ],
      "text/plain": [
       "      CRIM    ZN  INDUS  CHAS    NOX     RM   AGE     DIS  RAD    TAX  \\\n",
       "0  0.00632  18.0   2.31   0.0  0.538  6.575  65.2  4.0900  1.0  296.0   \n",
       "1  0.02731   0.0   7.07   0.0  0.469  6.421  78.9  4.9671  2.0  242.0   \n",
       "2  0.02729   0.0   7.07   0.0  0.469  7.185  61.1  4.9671  2.0  242.0   \n",
       "3  0.03237   0.0   2.18   0.0  0.458  6.998  45.8  6.0622  3.0  222.0   \n",
       "4  0.06905   0.0   2.18   0.0  0.458  7.147  54.2  6.0622  3.0  222.0   \n",
       "\n",
       "   PTRATIO       B  LSTAT  target  \n",
       "0     15.3  396.90   4.98    24.0  \n",
       "1     17.8  396.90   9.14    21.6  \n",
       "2     17.8  392.83   4.03    34.7  \n",
       "3     18.7  394.63   2.94    33.4  \n",
       "4     18.7  396.90   5.33    36.2  "
      ]
     },
     "execution_count": 2,
     "metadata": {},
     "output_type": "execute_result"
    }
   ],
   "source": [
    "boston_data = load_boston()\n",
    "df = pd.DataFrame(boston_data.data, columns=boston_data.feature_names)\n",
    "df['target'] = pd.Series(boston_data.target)\n",
    "print(df.shape)\n",
    "df.head()"
   ]
  },
  {
   "cell_type": "code",
   "execution_count": 3,
   "metadata": {
    "ExecuteTime": {
     "end_time": "2021-05-10T22:38:12.568550Z",
     "start_time": "2021-05-10T22:38:12.554505Z"
    }
   },
   "outputs": [],
   "source": [
    "X = df.drop(['target'], axis=1)\n",
    "y = df['target']"
   ]
  },
  {
   "cell_type": "code",
   "execution_count": 4,
   "metadata": {
    "ExecuteTime": {
     "end_time": "2021-05-10T22:38:12.584552Z",
     "start_time": "2021-05-10T22:38:12.569505Z"
    }
   },
   "outputs": [],
   "source": [
    "MinMaxSc = MinMaxScaler()\n",
    "X_scaled = MinMaxSc.fit_transform(X)"
   ]
  },
  {
   "cell_type": "code",
   "execution_count": 5,
   "metadata": {
    "ExecuteTime": {
     "end_time": "2021-05-10T22:38:12.600550Z",
     "start_time": "2021-05-10T22:38:12.585505Z"
    }
   },
   "outputs": [],
   "source": [
    "X_train, X_test, y_train, y_test = train_test_split(X_scaled, y, test_size = 0.25, random_state=1)"
   ]
  },
  {
   "cell_type": "code",
   "execution_count": 6,
   "metadata": {
    "ExecuteTime": {
     "end_time": "2021-05-10T22:38:12.616542Z",
     "start_time": "2021-05-10T22:38:12.601505Z"
    }
   },
   "outputs": [],
   "source": [
    "df = pd.DataFrame(columns=['No. layers', 'No. neurons', 'act_func', 'opt', 'train', 'test'])\n",
    "i = 0"
   ]
  },
  {
   "attachments": {},
   "cell_type": "markdown",
   "metadata": {},
   "source": [
    "### 3 слоя, 256 нейронов"
   ]
  },
  {
   "cell_type": "code",
   "execution_count": 7,
   "metadata": {
    "ExecuteTime": {
     "end_time": "2021-05-10T22:38:14.935796Z",
     "start_time": "2021-05-10T22:38:12.617505Z"
    }
   },
   "outputs": [
    {
     "name": "stdout",
     "output_type": "stream",
     "text": [
      "3.640970044497018\n",
      "3.226204438424971\n"
     ]
    }
   ],
   "source": [
    "early_stop = EarlyStopping(monitor='val_loss',\n",
    "                           min_delta=0,\n",
    "                           patience=100,\n",
    "                           verbose=1,\n",
    "                           mode='auto',\n",
    "                           baseline=None,\n",
    "                           restore_best_weights=False)\n",
    "\n",
    "input_layer = Input(shape=(X_train.shape[1],))\n",
    "dense_layer_1 = Dense(256, activation='relu')(input_layer)\n",
    "dense_layer_2 = Dense(256, activation='relu')(dense_layer_1)\n",
    "dense_layer_3 = Dense(256, activation='relu')(dense_layer_2)\n",
    "output = Dense(1)(dense_layer_3)\n",
    "\n",
    "model = Model(inputs=input_layer, outputs=output)\n",
    "model.compile(loss=\"mean_squared_error\", optimizer=\"adam\", metrics=[\"mean_squared_error\"])\n",
    "\n",
    "history = model.fit(X_train, y_train, \n",
    "                    batch_size=5, \n",
    "                    epochs=10, \n",
    "                    verbose=0,\n",
    "                    callbacks=[early_stop],\n",
    "                    validation_data=(X_test, y_test),\n",
    "                   )\n",
    "\n",
    "y_pred_train = model.predict(X_train)\n",
    "print(np.sqrt(sklearn_mean_squared_error(y_train, y_pred_train)))\n",
    "\n",
    "y_pred_test = model.predict(X_test)\n",
    "print(np.sqrt(sklearn_mean_squared_error(y_test, y_pred_test)))\n",
    "\n",
    "r2_train = round(r2_score(y_train, y_pred_train), 4)\n",
    "r2_test = round(r2_score(y_test, y_pred_test), 4)"
   ]
  },
  {
   "cell_type": "code",
   "execution_count": 8,
   "metadata": {
    "ExecuteTime": {
     "end_time": "2021-05-10T22:38:14.951837Z",
     "start_time": "2021-05-10T22:38:14.937798Z"
    }
   },
   "outputs": [
    {
     "data": {
      "text/plain": [
       "[50, 70, 98, 137, 191, 266, 370, 516, 718, 1000]"
      ]
     },
     "execution_count": 8,
     "metadata": {},
     "output_type": "execute_result"
    }
   ],
   "source": [
    "n_neurons = [int(i) for i in np.geomspace(51, 1000, num=10, axis=0).tolist()]\n",
    "n_neurons"
   ]
  },
  {
   "attachments": {},
   "cell_type": "markdown",
   "metadata": {},
   "source": [
    "### batch size"
   ]
  },
  {
   "attachments": {},
   "cell_type": "markdown",
   "metadata": {},
   "source": [
    "### 3 слоя, 50-100 нейронов"
   ]
  },
  {
   "cell_type": "code",
   "execution_count": 9,
   "metadata": {
    "ExecuteTime": {
     "end_time": "2021-05-10T22:38:14.967797Z",
     "start_time": "2021-05-10T22:38:14.953797Z"
    }
   },
   "outputs": [],
   "source": [
    "df = pd.DataFrame(columns=['No. layers', 'No. neurons', 'act_func', 'opt', 'train', 'test'])\n",
    "i = 0"
   ]
  },
  {
   "cell_type": "code",
   "execution_count": 10,
   "metadata": {
    "ExecuteTime": {
     "end_time": "2021-05-10T22:38:25.503532Z",
     "start_time": "2021-05-10T22:38:14.970807Z"
    }
   },
   "outputs": [
    {
     "name": "stderr",
     "output_type": "stream",
     "text": [
      "100%|██████████████████████████████████████████████████████████████████████████████████| 10/10 [00:10<00:00,  1.05s/it]\n"
     ]
    },
    {
     "data": {
      "text/html": [
       "<div>\n",
       "<style scoped>\n",
       "    .dataframe tbody tr th:only-of-type {\n",
       "        vertical-align: middle;\n",
       "    }\n",
       "\n",
       "    .dataframe tbody tr th {\n",
       "        vertical-align: top;\n",
       "    }\n",
       "\n",
       "    .dataframe thead th {\n",
       "        text-align: right;\n",
       "    }\n",
       "</style>\n",
       "<table border=\"1\" class=\"dataframe\">\n",
       "  <thead>\n",
       "    <tr style=\"text-align: right;\">\n",
       "      <th></th>\n",
       "      <th>No. layers</th>\n",
       "      <th>No. neurons</th>\n",
       "      <th>act_func</th>\n",
       "      <th>opt</th>\n",
       "      <th>train</th>\n",
       "      <th>test</th>\n",
       "    </tr>\n",
       "  </thead>\n",
       "  <tbody>\n",
       "    <tr>\n",
       "      <th>0</th>\n",
       "      <td>3</td>\n",
       "      <td>50</td>\n",
       "      <td>ReLu</td>\n",
       "      <td>Adam</td>\n",
       "      <td>-0.2802</td>\n",
       "      <td>-0.2637</td>\n",
       "    </tr>\n",
       "    <tr>\n",
       "      <th>1</th>\n",
       "      <td>3</td>\n",
       "      <td>70</td>\n",
       "      <td>ReLu</td>\n",
       "      <td>Adam</td>\n",
       "      <td>-0.2101</td>\n",
       "      <td>-0.1822</td>\n",
       "    </tr>\n",
       "    <tr>\n",
       "      <th>2</th>\n",
       "      <td>3</td>\n",
       "      <td>98</td>\n",
       "      <td>ReLu</td>\n",
       "      <td>Adam</td>\n",
       "      <td>-0.0381</td>\n",
       "      <td>-0.0325</td>\n",
       "    </tr>\n",
       "    <tr>\n",
       "      <th>3</th>\n",
       "      <td>3</td>\n",
       "      <td>137</td>\n",
       "      <td>ReLu</td>\n",
       "      <td>Adam</td>\n",
       "      <td>0.1445</td>\n",
       "      <td>0.1385</td>\n",
       "    </tr>\n",
       "    <tr>\n",
       "      <th>4</th>\n",
       "      <td>3</td>\n",
       "      <td>191</td>\n",
       "      <td>ReLu</td>\n",
       "      <td>Adam</td>\n",
       "      <td>0.2231</td>\n",
       "      <td>0.2051</td>\n",
       "    </tr>\n",
       "    <tr>\n",
       "      <th>5</th>\n",
       "      <td>3</td>\n",
       "      <td>266</td>\n",
       "      <td>ReLu</td>\n",
       "      <td>Adam</td>\n",
       "      <td>0.3082</td>\n",
       "      <td>0.3037</td>\n",
       "    </tr>\n",
       "    <tr>\n",
       "      <th>6</th>\n",
       "      <td>3</td>\n",
       "      <td>370</td>\n",
       "      <td>ReLu</td>\n",
       "      <td>Adam</td>\n",
       "      <td>0.3707</td>\n",
       "      <td>0.3753</td>\n",
       "    </tr>\n",
       "    <tr>\n",
       "      <th>7</th>\n",
       "      <td>3</td>\n",
       "      <td>516</td>\n",
       "      <td>ReLu</td>\n",
       "      <td>Adam</td>\n",
       "      <td>0.4291</td>\n",
       "      <td>0.4523</td>\n",
       "    </tr>\n",
       "    <tr>\n",
       "      <th>8</th>\n",
       "      <td>3</td>\n",
       "      <td>718</td>\n",
       "      <td>ReLu</td>\n",
       "      <td>Adam</td>\n",
       "      <td>0.4561</td>\n",
       "      <td>0.4984</td>\n",
       "    </tr>\n",
       "    <tr>\n",
       "      <th>9</th>\n",
       "      <td>3</td>\n",
       "      <td>1000</td>\n",
       "      <td>ReLu</td>\n",
       "      <td>Adam</td>\n",
       "      <td>0.4839</td>\n",
       "      <td>0.5293</td>\n",
       "    </tr>\n",
       "  </tbody>\n",
       "</table>\n",
       "</div>"
      ],
      "text/plain": [
       "  No. layers No. neurons act_func   opt   train    test\n",
       "0          3          50     ReLu  Adam -0.2802 -0.2637\n",
       "1          3          70     ReLu  Adam -0.2101 -0.1822\n",
       "2          3          98     ReLu  Adam -0.0381 -0.0325\n",
       "3          3         137     ReLu  Adam  0.1445  0.1385\n",
       "4          3         191     ReLu  Adam  0.2231  0.2051\n",
       "5          3         266     ReLu  Adam  0.3082  0.3037\n",
       "6          3         370     ReLu  Adam  0.3707  0.3753\n",
       "7          3         516     ReLu  Adam  0.4291  0.4523\n",
       "8          3         718     ReLu  Adam  0.4561  0.4984\n",
       "9          3        1000     ReLu  Adam  0.4839  0.5293"
      ]
     },
     "execution_count": 10,
     "metadata": {},
     "output_type": "execute_result"
    }
   ],
   "source": [
    "for n_neuron in tqdm(n_neurons):\n",
    "    input_layer = Input(shape=(X_train.shape[1],))\n",
    "    dense_layer_1 = Dense(n_neuron, activation='relu')(input_layer)\n",
    "    output = Dense(1)(dense_layer_1)\n",
    "\n",
    "    model = Model(inputs=input_layer, outputs=output)\n",
    "    model.compile(loss=\"mean_squared_error\", optimizer=\"adam\", metrics=[\"mean_squared_error\"])\n",
    "\n",
    "    history = model.fit(X_train, y_train, \n",
    "                        batch_size=10, \n",
    "                        epochs=10, \n",
    "                        verbose=0,\n",
    "                        validation_data=(X_test, y_test),\n",
    "                       )\n",
    "\n",
    "    y_pred_train = model.predict(X_train)\n",
    "\n",
    "    y_pred_test = model.predict(X_test)\n",
    "    r2_train = round(r2_score(y_train, y_pred_train), 4)\n",
    "    r2_test = round(r2_score(y_test, y_pred_test), 4)\n",
    "\n",
    "    df.loc[i] = [3, n_neuron, 'ReLu', 'Adam', r2_train, r2_test]\n",
    "    i += 1\n",
    "df"
   ]
  },
  {
   "cell_type": "code",
   "execution_count": 11,
   "metadata": {
    "ExecuteTime": {
     "end_time": "2021-05-10T22:38:25.662596Z",
     "start_time": "2021-05-10T22:38:25.504534Z"
    }
   },
   "outputs": [
    {
     "data": {
      "image/png": "[encoded data removed]",
      "text/plain": [
       "<Figure size 432x288 with 1 Axes>"
      ]
     },
     "metadata": {
      "needs_background": "light"
     },
     "output_type": "display_data"
    }
   ],
   "source": [
    "plt.plot(df['No. neurons'], df['train'], label='train')\n",
    "plt.plot(df['No. neurons'], df['test'], label='test')\n",
    "plt.legend();"
   ]
  },
  {
   "attachments": {},
   "cell_type": "markdown",
   "metadata": {},
   "source": [
    "### 3 слоя, 50-100 нейронов"
   ]
  },
  {
   "cell_type": "code",
   "execution_count": 12,
   "metadata": {
    "ExecuteTime": {
     "end_time": "2021-05-10T22:38:25.677603Z",
     "start_time": "2021-05-10T22:38:25.663568Z"
    }
   },
   "outputs": [],
   "source": [
    "df = pd.DataFrame(columns=['No. layers', 'No. neurons', 'act_func', 'opt', 'train', 'test'])\n",
    "i = 0"
   ]
  },
  {
   "cell_type": "code",
   "execution_count": 13,
   "metadata": {
    "ExecuteTime": {
     "end_time": "2021-05-10T22:38:38.419848Z",
     "start_time": "2021-05-10T22:38:25.679566Z"
    }
   },
   "outputs": [
    {
     "name": "stderr",
     "output_type": "stream",
     "text": [
      "100%|██████████████████████████████████████████████████████████████████████████████████| 10/10 [00:12<00:00,  1.27s/it]\n"
     ]
    },
    {
     "data": {
      "text/html": [
       "<div>\n",
       "<style scoped>\n",
       "    .dataframe tbody tr th:only-of-type {\n",
       "        vertical-align: middle;\n",
       "    }\n",
       "\n",
       "    .dataframe tbody tr th {\n",
       "        vertical-align: top;\n",
       "    }\n",
       "\n",
       "    .dataframe thead th {\n",
       "        text-align: right;\n",
       "    }\n",
       "</style>\n",
       "<table border=\"1\" class=\"dataframe\">\n",
       "  <thead>\n",
       "    <tr style=\"text-align: right;\">\n",
       "      <th></th>\n",
       "      <th>No. layers</th>\n",
       "      <th>No. neurons</th>\n",
       "      <th>act_func</th>\n",
       "      <th>opt</th>\n",
       "      <th>train</th>\n",
       "      <th>test</th>\n",
       "    </tr>\n",
       "  </thead>\n",
       "  <tbody>\n",
       "    <tr>\n",
       "      <th>0</th>\n",
       "      <td>3</td>\n",
       "      <td>50</td>\n",
       "      <td>ReLu</td>\n",
       "      <td>Adam</td>\n",
       "      <td>0.2381</td>\n",
       "      <td>0.2343</td>\n",
       "    </tr>\n",
       "    <tr>\n",
       "      <th>1</th>\n",
       "      <td>3</td>\n",
       "      <td>70</td>\n",
       "      <td>ReLu</td>\n",
       "      <td>Adam</td>\n",
       "      <td>0.2934</td>\n",
       "      <td>0.2919</td>\n",
       "    </tr>\n",
       "    <tr>\n",
       "      <th>2</th>\n",
       "      <td>3</td>\n",
       "      <td>98</td>\n",
       "      <td>ReLu</td>\n",
       "      <td>Adam</td>\n",
       "      <td>0.3826</td>\n",
       "      <td>0.3921</td>\n",
       "    </tr>\n",
       "    <tr>\n",
       "      <th>3</th>\n",
       "      <td>3</td>\n",
       "      <td>137</td>\n",
       "      <td>ReLu</td>\n",
       "      <td>Adam</td>\n",
       "      <td>0.4264</td>\n",
       "      <td>0.4542</td>\n",
       "    </tr>\n",
       "    <tr>\n",
       "      <th>4</th>\n",
       "      <td>3</td>\n",
       "      <td>191</td>\n",
       "      <td>ReLu</td>\n",
       "      <td>Adam</td>\n",
       "      <td>0.4639</td>\n",
       "      <td>0.4845</td>\n",
       "    </tr>\n",
       "    <tr>\n",
       "      <th>5</th>\n",
       "      <td>3</td>\n",
       "      <td>266</td>\n",
       "      <td>ReLu</td>\n",
       "      <td>Adam</td>\n",
       "      <td>0.5098</td>\n",
       "      <td>0.5535</td>\n",
       "    </tr>\n",
       "    <tr>\n",
       "      <th>6</th>\n",
       "      <td>3</td>\n",
       "      <td>370</td>\n",
       "      <td>ReLu</td>\n",
       "      <td>Adam</td>\n",
       "      <td>0.5534</td>\n",
       "      <td>0.5983</td>\n",
       "    </tr>\n",
       "    <tr>\n",
       "      <th>7</th>\n",
       "      <td>3</td>\n",
       "      <td>516</td>\n",
       "      <td>ReLu</td>\n",
       "      <td>Adam</td>\n",
       "      <td>0.5944</td>\n",
       "      <td>0.6420</td>\n",
       "    </tr>\n",
       "    <tr>\n",
       "      <th>8</th>\n",
       "      <td>3</td>\n",
       "      <td>718</td>\n",
       "      <td>ReLu</td>\n",
       "      <td>Adam</td>\n",
       "      <td>0.6001</td>\n",
       "      <td>0.6460</td>\n",
       "    </tr>\n",
       "    <tr>\n",
       "      <th>9</th>\n",
       "      <td>3</td>\n",
       "      <td>1000</td>\n",
       "      <td>ReLu</td>\n",
       "      <td>Adam</td>\n",
       "      <td>0.6579</td>\n",
       "      <td>0.7287</td>\n",
       "    </tr>\n",
       "  </tbody>\n",
       "</table>\n",
       "</div>"
      ],
      "text/plain": [
       "  No. layers No. neurons act_func   opt   train    test\n",
       "0          3          50     ReLu  Adam  0.2381  0.2343\n",
       "1          3          70     ReLu  Adam  0.2934  0.2919\n",
       "2          3          98     ReLu  Adam  0.3826  0.3921\n",
       "3          3         137     ReLu  Adam  0.4264  0.4542\n",
       "4          3         191     ReLu  Adam  0.4639  0.4845\n",
       "5          3         266     ReLu  Adam  0.5098  0.5535\n",
       "6          3         370     ReLu  Adam  0.5534  0.5983\n",
       "7          3         516     ReLu  Adam  0.5944  0.6420\n",
       "8          3         718     ReLu  Adam  0.6001  0.6460\n",
       "9          3        1000     ReLu  Adam  0.6579  0.7287"
      ]
     },
     "execution_count": 13,
     "metadata": {},
     "output_type": "execute_result"
    }
   ],
   "source": [
    "for n_neuron in tqdm(n_neurons):\n",
    "    input_layer = Input(shape=(X_train.shape[1],))\n",
    "    dense_layer_1 = Dense(n_neuron, activation='relu')(input_layer)\n",
    "    output = Dense(1)(dense_layer_1)\n",
    "\n",
    "    model = Model(inputs=input_layer, outputs=output)\n",
    "    model.compile(loss=\"mean_squared_error\", optimizer=\"adam\", metrics=[\"mean_squared_error\"])\n",
    "\n",
    "    history = model.fit(X_train, y_train, \n",
    "                        batch_size=5, \n",
    "                        epochs=10, \n",
    "                        verbose=0,\n",
    "                        validation_data=(X_test, y_test),\n",
    "                       )\n",
    "\n",
    "    y_pred_train = model.predict(X_train)\n",
    "\n",
    "    y_pred_test = model.predict(X_test)\n",
    "\n",
    "    r2_train = round(r2_score(y_train, y_pred_train), 4)\n",
    "    r2_test = round(r2_score(y_test, y_pred_test), 4)\n",
    "\n",
    "    df.loc[i] = [3, n_neuron, 'ReLu', 'Adam', r2_train, r2_test]\n",
    "    i += 1\n",
    "df"
   ]
  },
  {
   "cell_type": "code",
   "execution_count": 14,
   "metadata": {
    "ExecuteTime": {
     "end_time": "2021-05-10T22:38:38.560904Z",
     "start_time": "2021-05-10T22:38:38.421865Z"
    },
    "scrolled": true
   },
   "outputs": [
    {
     "data": {
      "image/png": "[encoded data removed]",
      "text/plain": [
       "<Figure size 432x288 with 1 Axes>"
      ]
     },
     "metadata": {
      "needs_background": "light"
     },
     "output_type": "display_data"
    }
   ],
   "source": [
    "plt.plot(df['No. neurons'], df['train'], label='train')\n",
    "plt.plot(df['No. neurons'], df['test'], label='test')\n",
    "plt.legend();"
   ]
  },
  {
   "attachments": {},
   "cell_type": "markdown",
   "metadata": {},
   "source": [
    "### 3 слоя, 50-100 нейронов"
   ]
  },
  {
   "cell_type": "code",
   "execution_count": 15,
   "metadata": {
    "ExecuteTime": {
     "end_time": "2021-05-10T22:38:38.575937Z",
     "start_time": "2021-05-10T22:38:38.561903Z"
    }
   },
   "outputs": [],
   "source": [
    "df = pd.DataFrame(columns=['No. layers', 'No. neurons', 'act_func', 'opt', 'train', 'test'])\n",
    "i = 0"
   ]
  },
  {
   "cell_type": "code",
   "execution_count": 16,
   "metadata": {
    "ExecuteTime": {
     "end_time": "2021-05-10T22:39:05.608875Z",
     "start_time": "2021-05-10T22:38:38.576941Z"
    }
   },
   "outputs": [
    {
     "name": "stderr",
     "output_type": "stream",
     "text": [
      "100%|██████████████████████████████████████████████████████████████████████████████████| 10/10 [00:27<00:00,  2.70s/it]\n"
     ]
    },
    {
     "data": {
      "text/html": [
       "<div>\n",
       "<style scoped>\n",
       "    .dataframe tbody tr th:only-of-type {\n",
       "        vertical-align: middle;\n",
       "    }\n",
       "\n",
       "    .dataframe tbody tr th {\n",
       "        vertical-align: top;\n",
       "    }\n",
       "\n",
       "    .dataframe thead th {\n",
       "        text-align: right;\n",
       "    }\n",
       "</style>\n",
       "<table border=\"1\" class=\"dataframe\">\n",
       "  <thead>\n",
       "    <tr style=\"text-align: right;\">\n",
       "      <th></th>\n",
       "      <th>No. layers</th>\n",
       "      <th>No. neurons</th>\n",
       "      <th>act_func</th>\n",
       "      <th>opt</th>\n",
       "      <th>train</th>\n",
       "      <th>test</th>\n",
       "    </tr>\n",
       "  </thead>\n",
       "  <tbody>\n",
       "    <tr>\n",
       "      <th>0</th>\n",
       "      <td>3</td>\n",
       "      <td>50</td>\n",
       "      <td>ReLu</td>\n",
       "      <td>Adam</td>\n",
       "      <td>0.5659</td>\n",
       "      <td>0.6164</td>\n",
       "    </tr>\n",
       "    <tr>\n",
       "      <th>1</th>\n",
       "      <td>3</td>\n",
       "      <td>70</td>\n",
       "      <td>ReLu</td>\n",
       "      <td>Adam</td>\n",
       "      <td>0.6071</td>\n",
       "      <td>0.6623</td>\n",
       "    </tr>\n",
       "    <tr>\n",
       "      <th>2</th>\n",
       "      <td>3</td>\n",
       "      <td>98</td>\n",
       "      <td>ReLu</td>\n",
       "      <td>Adam</td>\n",
       "      <td>0.6290</td>\n",
       "      <td>0.7005</td>\n",
       "    </tr>\n",
       "    <tr>\n",
       "      <th>3</th>\n",
       "      <td>3</td>\n",
       "      <td>137</td>\n",
       "      <td>ReLu</td>\n",
       "      <td>Adam</td>\n",
       "      <td>0.6743</td>\n",
       "      <td>0.7474</td>\n",
       "    </tr>\n",
       "    <tr>\n",
       "      <th>4</th>\n",
       "      <td>3</td>\n",
       "      <td>191</td>\n",
       "      <td>ReLu</td>\n",
       "      <td>Adam</td>\n",
       "      <td>0.6977</td>\n",
       "      <td>0.7810</td>\n",
       "    </tr>\n",
       "    <tr>\n",
       "      <th>5</th>\n",
       "      <td>3</td>\n",
       "      <td>266</td>\n",
       "      <td>ReLu</td>\n",
       "      <td>Adam</td>\n",
       "      <td>0.7014</td>\n",
       "      <td>0.7876</td>\n",
       "    </tr>\n",
       "    <tr>\n",
       "      <th>6</th>\n",
       "      <td>3</td>\n",
       "      <td>370</td>\n",
       "      <td>ReLu</td>\n",
       "      <td>Adam</td>\n",
       "      <td>0.7007</td>\n",
       "      <td>0.7873</td>\n",
       "    </tr>\n",
       "    <tr>\n",
       "      <th>7</th>\n",
       "      <td>3</td>\n",
       "      <td>516</td>\n",
       "      <td>ReLu</td>\n",
       "      <td>Adam</td>\n",
       "      <td>0.7297</td>\n",
       "      <td>0.8166</td>\n",
       "    </tr>\n",
       "    <tr>\n",
       "      <th>8</th>\n",
       "      <td>3</td>\n",
       "      <td>718</td>\n",
       "      <td>ReLu</td>\n",
       "      <td>Adam</td>\n",
       "      <td>0.7348</td>\n",
       "      <td>0.8219</td>\n",
       "    </tr>\n",
       "    <tr>\n",
       "      <th>9</th>\n",
       "      <td>3</td>\n",
       "      <td>1000</td>\n",
       "      <td>ReLu</td>\n",
       "      <td>Adam</td>\n",
       "      <td>0.7374</td>\n",
       "      <td>0.8206</td>\n",
       "    </tr>\n",
       "  </tbody>\n",
       "</table>\n",
       "</div>"
      ],
      "text/plain": [
       "  No. layers No. neurons act_func   opt   train    test\n",
       "0          3          50     ReLu  Adam  0.5659  0.6164\n",
       "1          3          70     ReLu  Adam  0.6071  0.6623\n",
       "2          3          98     ReLu  Adam  0.6290  0.7005\n",
       "3          3         137     ReLu  Adam  0.6743  0.7474\n",
       "4          3         191     ReLu  Adam  0.6977  0.7810\n",
       "5          3         266     ReLu  Adam  0.7014  0.7876\n",
       "6          3         370     ReLu  Adam  0.7007  0.7873\n",
       "7          3         516     ReLu  Adam  0.7297  0.8166\n",
       "8          3         718     ReLu  Adam  0.7348  0.8219\n",
       "9          3        1000     ReLu  Adam  0.7374  0.8206"
      ]
     },
     "execution_count": 16,
     "metadata": {},
     "output_type": "execute_result"
    }
   ],
   "source": [
    "for n_neuron in tqdm(n_neurons):\n",
    "    input_layer = Input(shape=(X_train.shape[1],))\n",
    "    dense_layer_1 = Dense(n_neuron, activation='relu')(input_layer)\n",
    "    output = Dense(1)(dense_layer_1)\n",
    "\n",
    "    model = Model(inputs=input_layer, outputs=output)\n",
    "    model.compile(loss=\"mean_squared_error\", optimizer=\"adam\", metrics=[\"mean_squared_error\"])\n",
    "\n",
    "    history = model.fit(X_train, y_train, \n",
    "                        batch_size=1, \n",
    "                        epochs=10, \n",
    "                        verbose=0,\n",
    "                        validation_data=(X_test, y_test),\n",
    "                       )\n",
    "\n",
    "    y_pred_train = model.predict(X_train)\n",
    "\n",
    "    y_pred_test = model.predict(X_test)\n",
    "\n",
    "    r2_train = round(r2_score(y_train, y_pred_train), 4)\n",
    "    r2_test = round(r2_score(y_test, y_pred_test), 4)\n",
    "\n",
    "    df.loc[i] = [3, n_neuron, 'ReLu', 'Adam', r2_train, r2_test]\n",
    "    i += 1\n",
    "df"
   ]
  },
  {
   "cell_type": "code",
   "execution_count": 17,
   "metadata": {
    "ExecuteTime": {
     "end_time": "2021-05-10T22:39:05.749875Z",
     "start_time": "2021-05-10T22:39:05.610875Z"
    },
    "scrolled": true
   },
   "outputs": [
    {
     "data": {
      "image/png": "[encoded data removed]",
      "text/plain": [
       "<Figure size 432x288 with 1 Axes>"
      ]
     },
     "metadata": {
      "needs_background": "light"
     },
     "output_type": "display_data"
    }
   ],
   "source": [
    "plt.plot(df['No. neurons'], df['train'], label='train')\n",
    "plt.plot(df['No. neurons'], df['test'], label='test')\n",
    "plt.legend();"
   ]
  },
  {
   "attachments": {},
   "cell_type": "markdown",
   "metadata": {},
   "source": [
    "## Подытог:\n",
    "\n",
    "Уменьшение batch ускоряет обучение модели."
   ]
  },
  {
   "attachments": {},
   "cell_type": "markdown",
   "metadata": {},
   "source": [
    "## Количество слоёв"
   ]
  },
  {
   "attachments": {},
   "cell_type": "markdown",
   "metadata": {},
   "source": [
    "### 3 слоя, 50-100 нейронов"
   ]
  },
  {
   "cell_type": "code",
   "execution_count": 18,
   "metadata": {
    "ExecuteTime": {
     "end_time": "2021-05-10T22:39:05.765874Z",
     "start_time": "2021-05-10T22:39:05.750874Z"
    }
   },
   "outputs": [],
   "source": [
    "df = pd.DataFrame(columns=['No. layers', 'No. neurons', 'act_func', 'opt', 'train', 'test'])\n",
    "i = 0"
   ]
  },
  {
   "cell_type": "code",
   "execution_count": 19,
   "metadata": {
    "ExecuteTime": {
     "end_time": "2021-05-10T22:39:33.276659Z",
     "start_time": "2021-05-10T22:39:05.766875Z"
    }
   },
   "outputs": [
    {
     "name": "stderr",
     "output_type": "stream",
     "text": [
      "100%|██████████████████████████████████████████████████████████████████████████████████| 10/10 [00:27<00:00,  2.75s/it]\n"
     ]
    },
    {
     "data": {
      "text/html": [
       "<div>\n",
       "<style scoped>\n",
       "    .dataframe tbody tr th:only-of-type {\n",
       "        vertical-align: middle;\n",
       "    }\n",
       "\n",
       "    .dataframe tbody tr th {\n",
       "        vertical-align: top;\n",
       "    }\n",
       "\n",
       "    .dataframe thead th {\n",
       "        text-align: right;\n",
       "    }\n",
       "</style>\n",
       "<table border=\"1\" class=\"dataframe\">\n",
       "  <thead>\n",
       "    <tr style=\"text-align: right;\">\n",
       "      <th></th>\n",
       "      <th>No. layers</th>\n",
       "      <th>No. neurons</th>\n",
       "      <th>act_func</th>\n",
       "      <th>opt</th>\n",
       "      <th>train</th>\n",
       "      <th>test</th>\n",
       "    </tr>\n",
       "  </thead>\n",
       "  <tbody>\n",
       "    <tr>\n",
       "      <th>0</th>\n",
       "      <td>3</td>\n",
       "      <td>50</td>\n",
       "      <td>ReLu</td>\n",
       "      <td>Adam</td>\n",
       "      <td>0.5479</td>\n",
       "      <td>0.5923</td>\n",
       "    </tr>\n",
       "    <tr>\n",
       "      <th>1</th>\n",
       "      <td>3</td>\n",
       "      <td>70</td>\n",
       "      <td>ReLu</td>\n",
       "      <td>Adam</td>\n",
       "      <td>0.5728</td>\n",
       "      <td>0.6542</td>\n",
       "    </tr>\n",
       "    <tr>\n",
       "      <th>2</th>\n",
       "      <td>3</td>\n",
       "      <td>98</td>\n",
       "      <td>ReLu</td>\n",
       "      <td>Adam</td>\n",
       "      <td>0.6554</td>\n",
       "      <td>0.7254</td>\n",
       "    </tr>\n",
       "    <tr>\n",
       "      <th>3</th>\n",
       "      <td>3</td>\n",
       "      <td>137</td>\n",
       "      <td>ReLu</td>\n",
       "      <td>Adam</td>\n",
       "      <td>0.6410</td>\n",
       "      <td>0.7232</td>\n",
       "    </tr>\n",
       "    <tr>\n",
       "      <th>4</th>\n",
       "      <td>3</td>\n",
       "      <td>191</td>\n",
       "      <td>ReLu</td>\n",
       "      <td>Adam</td>\n",
       "      <td>0.6913</td>\n",
       "      <td>0.7756</td>\n",
       "    </tr>\n",
       "    <tr>\n",
       "      <th>5</th>\n",
       "      <td>3</td>\n",
       "      <td>266</td>\n",
       "      <td>ReLu</td>\n",
       "      <td>Adam</td>\n",
       "      <td>0.7020</td>\n",
       "      <td>0.7910</td>\n",
       "    </tr>\n",
       "    <tr>\n",
       "      <th>6</th>\n",
       "      <td>3</td>\n",
       "      <td>370</td>\n",
       "      <td>ReLu</td>\n",
       "      <td>Adam</td>\n",
       "      <td>0.7074</td>\n",
       "      <td>0.7920</td>\n",
       "    </tr>\n",
       "    <tr>\n",
       "      <th>7</th>\n",
       "      <td>3</td>\n",
       "      <td>516</td>\n",
       "      <td>ReLu</td>\n",
       "      <td>Adam</td>\n",
       "      <td>0.7114</td>\n",
       "      <td>0.8013</td>\n",
       "    </tr>\n",
       "    <tr>\n",
       "      <th>8</th>\n",
       "      <td>3</td>\n",
       "      <td>718</td>\n",
       "      <td>ReLu</td>\n",
       "      <td>Adam</td>\n",
       "      <td>0.7117</td>\n",
       "      <td>0.8016</td>\n",
       "    </tr>\n",
       "    <tr>\n",
       "      <th>9</th>\n",
       "      <td>3</td>\n",
       "      <td>1000</td>\n",
       "      <td>ReLu</td>\n",
       "      <td>Adam</td>\n",
       "      <td>0.7255</td>\n",
       "      <td>0.8186</td>\n",
       "    </tr>\n",
       "  </tbody>\n",
       "</table>\n",
       "</div>"
      ],
      "text/plain": [
       "  No. layers No. neurons act_func   opt   train    test\n",
       "0          3          50     ReLu  Adam  0.5479  0.5923\n",
       "1          3          70     ReLu  Adam  0.5728  0.6542\n",
       "2          3          98     ReLu  Adam  0.6554  0.7254\n",
       "3          3         137     ReLu  Adam  0.6410  0.7232\n",
       "4          3         191     ReLu  Adam  0.6913  0.7756\n",
       "5          3         266     ReLu  Adam  0.7020  0.7910\n",
       "6          3         370     ReLu  Adam  0.7074  0.7920\n",
       "7          3         516     ReLu  Adam  0.7114  0.8013\n",
       "8          3         718     ReLu  Adam  0.7117  0.8016\n",
       "9          3        1000     ReLu  Adam  0.7255  0.8186"
      ]
     },
     "execution_count": 19,
     "metadata": {},
     "output_type": "execute_result"
    }
   ],
   "source": [
    "for n_neuron in tqdm(n_neurons):\n",
    "    input_layer = Input(shape=(X_train.shape[1],))\n",
    "    dense_layer_1 = Dense(n_neuron, activation='relu')(input_layer)\n",
    "    output = Dense(1)(dense_layer_1)\n",
    "\n",
    "    model = Model(inputs=input_layer, outputs=output)\n",
    "    model.compile(loss=\"mean_squared_error\", optimizer=\"adam\", metrics=[\"mean_squared_error\"])\n",
    "\n",
    "    history = model.fit(X_train, y_train, \n",
    "                        batch_size=1, \n",
    "                        epochs=10, \n",
    "                        verbose=0,\n",
    "                        validation_data=(X_test, y_test),\n",
    "                       )\n",
    "\n",
    "    y_pred_train = model.predict(X_train)\n",
    "\n",
    "    y_pred_test = model.predict(X_test)\n",
    "\n",
    "    r2_train = round(r2_score(y_train, y_pred_train), 4)\n",
    "    r2_test = round(r2_score(y_test, y_pred_test), 4)\n",
    "\n",
    "    df.loc[i] = [3, n_neuron, 'ReLu', 'Adam', r2_train, r2_test]\n",
    "    i += 1\n",
    "df"
   ]
  },
  {
   "cell_type": "code",
   "execution_count": 20,
   "metadata": {
    "ExecuteTime": {
     "end_time": "2021-05-10T22:39:33.402186Z",
     "start_time": "2021-05-10T22:39:33.277655Z"
    },
    "scrolled": true
   },
   "outputs": [
    {
     "data": {
      "image/png": "[encoded data removed]",
      "text/plain": [
       "<Figure size 432x288 with 1 Axes>"
      ]
     },
     "metadata": {
      "needs_background": "light"
     },
     "output_type": "display_data"
    }
   ],
   "source": [
    "plt.plot(df['No. neurons'], df['train'], label='train')\n",
    "plt.plot(df['No. neurons'], df['test'], label='test')\n",
    "plt.legend();"
   ]
  },
  {
   "attachments": {},
   "cell_type": "markdown",
   "metadata": {},
   "source": [
    "### 4 слоя, 50-100 нейронов"
   ]
  },
  {
   "cell_type": "code",
   "execution_count": 21,
   "metadata": {
    "ExecuteTime": {
     "end_time": "2021-05-10T22:39:33.417186Z",
     "start_time": "2021-05-10T22:39:33.403186Z"
    }
   },
   "outputs": [],
   "source": [
    "df = pd.DataFrame(columns=['No. layers', 'No. neurons', 'act_func', 'opt', 'train', 'test'])\n",
    "i = 0"
   ]
  },
  {
   "cell_type": "code",
   "execution_count": 22,
   "metadata": {
    "ExecuteTime": {
     "end_time": "2021-05-10T22:40:20.953421Z",
     "start_time": "2021-05-10T22:39:33.418185Z"
    }
   },
   "outputs": [
    {
     "name": "stderr",
     "output_type": "stream",
     "text": [
      "100%|██████████████████████████████████████████████████████████████████████████████████| 10/10 [00:47<00:00,  4.75s/it]\n"
     ]
    },
    {
     "data": {
      "text/html": [
       "<div>\n",
       "<style scoped>\n",
       "    .dataframe tbody tr th:only-of-type {\n",
       "        vertical-align: middle;\n",
       "    }\n",
       "\n",
       "    .dataframe tbody tr th {\n",
       "        vertical-align: top;\n",
       "    }\n",
       "\n",
       "    .dataframe thead th {\n",
       "        text-align: right;\n",
       "    }\n",
       "</style>\n",
       "<table border=\"1\" class=\"dataframe\">\n",
       "  <thead>\n",
       "    <tr style=\"text-align: right;\">\n",
       "      <th></th>\n",
       "      <th>No. layers</th>\n",
       "      <th>No. neurons</th>\n",
       "      <th>act_func</th>\n",
       "      <th>opt</th>\n",
       "      <th>train</th>\n",
       "      <th>test</th>\n",
       "    </tr>\n",
       "  </thead>\n",
       "  <tbody>\n",
       "    <tr>\n",
       "      <th>0</th>\n",
       "      <td>4</td>\n",
       "      <td>50</td>\n",
       "      <td>ReLu</td>\n",
       "      <td>Adam</td>\n",
       "      <td>0.7474</td>\n",
       "      <td>0.8247</td>\n",
       "    </tr>\n",
       "    <tr>\n",
       "      <th>1</th>\n",
       "      <td>4</td>\n",
       "      <td>70</td>\n",
       "      <td>ReLu</td>\n",
       "      <td>Adam</td>\n",
       "      <td>0.5825</td>\n",
       "      <td>0.6787</td>\n",
       "    </tr>\n",
       "    <tr>\n",
       "      <th>2</th>\n",
       "      <td>4</td>\n",
       "      <td>98</td>\n",
       "      <td>ReLu</td>\n",
       "      <td>Adam</td>\n",
       "      <td>0.7801</td>\n",
       "      <td>0.8609</td>\n",
       "    </tr>\n",
       "    <tr>\n",
       "      <th>3</th>\n",
       "      <td>4</td>\n",
       "      <td>137</td>\n",
       "      <td>ReLu</td>\n",
       "      <td>Adam</td>\n",
       "      <td>0.7881</td>\n",
       "      <td>0.8605</td>\n",
       "    </tr>\n",
       "    <tr>\n",
       "      <th>4</th>\n",
       "      <td>4</td>\n",
       "      <td>191</td>\n",
       "      <td>ReLu</td>\n",
       "      <td>Adam</td>\n",
       "      <td>0.8349</td>\n",
       "      <td>0.8963</td>\n",
       "    </tr>\n",
       "    <tr>\n",
       "      <th>5</th>\n",
       "      <td>4</td>\n",
       "      <td>266</td>\n",
       "      <td>ReLu</td>\n",
       "      <td>Adam</td>\n",
       "      <td>0.7226</td>\n",
       "      <td>0.8027</td>\n",
       "    </tr>\n",
       "    <tr>\n",
       "      <th>6</th>\n",
       "      <td>4</td>\n",
       "      <td>370</td>\n",
       "      <td>ReLu</td>\n",
       "      <td>Adam</td>\n",
       "      <td>0.8095</td>\n",
       "      <td>0.8710</td>\n",
       "    </tr>\n",
       "    <tr>\n",
       "      <th>7</th>\n",
       "      <td>4</td>\n",
       "      <td>516</td>\n",
       "      <td>ReLu</td>\n",
       "      <td>Adam</td>\n",
       "      <td>0.8435</td>\n",
       "      <td>0.8932</td>\n",
       "    </tr>\n",
       "    <tr>\n",
       "      <th>8</th>\n",
       "      <td>4</td>\n",
       "      <td>718</td>\n",
       "      <td>ReLu</td>\n",
       "      <td>Adam</td>\n",
       "      <td>0.8388</td>\n",
       "      <td>0.8968</td>\n",
       "    </tr>\n",
       "    <tr>\n",
       "      <th>9</th>\n",
       "      <td>4</td>\n",
       "      <td>1000</td>\n",
       "      <td>ReLu</td>\n",
       "      <td>Adam</td>\n",
       "      <td>0.8532</td>\n",
       "      <td>0.9067</td>\n",
       "    </tr>\n",
       "  </tbody>\n",
       "</table>\n",
       "</div>"
      ],
      "text/plain": [
       "  No. layers No. neurons act_func   opt   train    test\n",
       "0          4          50     ReLu  Adam  0.7474  0.8247\n",
       "1          4          70     ReLu  Adam  0.5825  0.6787\n",
       "2          4          98     ReLu  Adam  0.7801  0.8609\n",
       "3          4         137     ReLu  Adam  0.7881  0.8605\n",
       "4          4         191     ReLu  Adam  0.8349  0.8963\n",
       "5          4         266     ReLu  Adam  0.7226  0.8027\n",
       "6          4         370     ReLu  Adam  0.8095  0.8710\n",
       "7          4         516     ReLu  Adam  0.8435  0.8932\n",
       "8          4         718     ReLu  Adam  0.8388  0.8968\n",
       "9          4        1000     ReLu  Adam  0.8532  0.9067"
      ]
     },
     "execution_count": 22,
     "metadata": {},
     "output_type": "execute_result"
    }
   ],
   "source": [
    "for n_neuron in tqdm(n_neurons):\n",
    "    input_layer = Input(shape=(X_train.shape[1],))\n",
    "    dense_layer_1 = Dense(n_neuron, activation='relu')(input_layer)\n",
    "    dense_layer_2 = Dense(n_neuron, activation='relu')(dense_layer_1)\n",
    "    output = Dense(1)(dense_layer_2)\n",
    "\n",
    "    model = Model(inputs=input_layer, outputs=output)\n",
    "    model.compile(loss=\"mean_squared_error\", optimizer=\"adam\", metrics=[\"mean_squared_error\"])\n",
    "\n",
    "    history = model.fit(X_train, y_train, \n",
    "                        batch_size=1, \n",
    "                        epochs=10, \n",
    "                        verbose=0,\n",
    "                        validation_data=(X_test, y_test),\n",
    "                       )\n",
    "\n",
    "    y_pred_train = model.predict(X_train)\n",
    "\n",
    "    y_pred_test = model.predict(X_test)\n",
    "\n",
    "    r2_train = round(r2_score(y_train, y_pred_train), 4)\n",
    "    r2_test = round(r2_score(y_test, y_pred_test), 4)\n",
    "\n",
    "    df.loc[i] = [4, n_neuron, 'ReLu', 'Adam', r2_train, r2_test]\n",
    "    i += 1\n",
    "df"
   ]
  },
  {
   "cell_type": "code",
   "execution_count": 23,
   "metadata": {
    "ExecuteTime": {
     "end_time": "2021-05-10T22:40:21.094167Z",
     "start_time": "2021-05-10T22:40:20.956386Z"
    },
    "scrolled": true
   },
   "outputs": [
    {
     "data": {
      "image/png": "[encoded data removed]",
      "text/plain": [
       "<Figure size 432x288 with 1 Axes>"
      ]
     },
     "metadata": {
      "needs_background": "light"
     },
     "output_type": "display_data"
    }
   ],
   "source": [
    "plt.plot(df['No. neurons'], df['train'], label='train')\n",
    "plt.plot(df['No. neurons'], df['test'], label='test')\n",
    "plt.legend();"
   ]
  },
  {
   "attachments": {},
   "cell_type": "markdown",
   "metadata": {},
   "source": [
    "### 5 слоёв, 50-100 нейронов"
   ]
  },
  {
   "cell_type": "code",
   "execution_count": 24,
   "metadata": {
    "ExecuteTime": {
     "end_time": "2021-05-10T22:40:21.109330Z",
     "start_time": "2021-05-10T22:40:21.097121Z"
    }
   },
   "outputs": [],
   "source": [
    "df = pd.DataFrame(columns=['No. layers', 'No. neurons', 'act_func', 'opt', 'train', 'test'])\n",
    "i = 0"
   ]
  },
  {
   "cell_type": "code",
   "execution_count": 25,
   "metadata": {
    "ExecuteTime": {
     "end_time": "2021-05-10T22:41:29.360766Z",
     "start_time": "2021-05-10T22:40:21.111163Z"
    }
   },
   "outputs": [
    {
     "name": "stderr",
     "output_type": "stream",
     "text": [
      "100%|██████████████████████████████████████████████████████████████████████████████████| 10/10 [01:08<00:00,  6.82s/it]\n"
     ]
    },
    {
     "data": {
      "text/html": [
       "<div>\n",
       "<style scoped>\n",
       "    .dataframe tbody tr th:only-of-type {\n",
       "        vertical-align: middle;\n",
       "    }\n",
       "\n",
       "    .dataframe tbody tr th {\n",
       "        vertical-align: top;\n",
       "    }\n",
       "\n",
       "    .dataframe thead th {\n",
       "        text-align: right;\n",
       "    }\n",
       "</style>\n",
       "<table border=\"1\" class=\"dataframe\">\n",
       "  <thead>\n",
       "    <tr style=\"text-align: right;\">\n",
       "      <th></th>\n",
       "      <th>No. layers</th>\n",
       "      <th>No. neurons</th>\n",
       "      <th>act_func</th>\n",
       "      <th>opt</th>\n",
       "      <th>train</th>\n",
       "      <th>test</th>\n",
       "    </tr>\n",
       "  </thead>\n",
       "  <tbody>\n",
       "    <tr>\n",
       "      <th>0</th>\n",
       "      <td>5</td>\n",
       "      <td>50</td>\n",
       "      <td>ReLu</td>\n",
       "      <td>Adam</td>\n",
       "      <td>0.7874</td>\n",
       "      <td>0.8623</td>\n",
       "    </tr>\n",
       "    <tr>\n",
       "      <th>1</th>\n",
       "      <td>5</td>\n",
       "      <td>70</td>\n",
       "      <td>ReLu</td>\n",
       "      <td>Adam</td>\n",
       "      <td>0.7854</td>\n",
       "      <td>0.8626</td>\n",
       "    </tr>\n",
       "    <tr>\n",
       "      <th>2</th>\n",
       "      <td>5</td>\n",
       "      <td>98</td>\n",
       "      <td>ReLu</td>\n",
       "      <td>Adam</td>\n",
       "      <td>0.7910</td>\n",
       "      <td>0.8748</td>\n",
       "    </tr>\n",
       "    <tr>\n",
       "      <th>3</th>\n",
       "      <td>5</td>\n",
       "      <td>137</td>\n",
       "      <td>ReLu</td>\n",
       "      <td>Adam</td>\n",
       "      <td>0.8337</td>\n",
       "      <td>0.8819</td>\n",
       "    </tr>\n",
       "    <tr>\n",
       "      <th>4</th>\n",
       "      <td>5</td>\n",
       "      <td>191</td>\n",
       "      <td>ReLu</td>\n",
       "      <td>Adam</td>\n",
       "      <td>0.8073</td>\n",
       "      <td>0.8677</td>\n",
       "    </tr>\n",
       "    <tr>\n",
       "      <th>5</th>\n",
       "      <td>5</td>\n",
       "      <td>266</td>\n",
       "      <td>ReLu</td>\n",
       "      <td>Adam</td>\n",
       "      <td>0.8408</td>\n",
       "      <td>0.8843</td>\n",
       "    </tr>\n",
       "    <tr>\n",
       "      <th>6</th>\n",
       "      <td>5</td>\n",
       "      <td>370</td>\n",
       "      <td>ReLu</td>\n",
       "      <td>Adam</td>\n",
       "      <td>0.8034</td>\n",
       "      <td>0.8577</td>\n",
       "    </tr>\n",
       "    <tr>\n",
       "      <th>7</th>\n",
       "      <td>5</td>\n",
       "      <td>516</td>\n",
       "      <td>ReLu</td>\n",
       "      <td>Adam</td>\n",
       "      <td>0.8205</td>\n",
       "      <td>0.8757</td>\n",
       "    </tr>\n",
       "    <tr>\n",
       "      <th>8</th>\n",
       "      <td>5</td>\n",
       "      <td>718</td>\n",
       "      <td>ReLu</td>\n",
       "      <td>Adam</td>\n",
       "      <td>0.8561</td>\n",
       "      <td>0.8971</td>\n",
       "    </tr>\n",
       "    <tr>\n",
       "      <th>9</th>\n",
       "      <td>5</td>\n",
       "      <td>1000</td>\n",
       "      <td>ReLu</td>\n",
       "      <td>Adam</td>\n",
       "      <td>0.7800</td>\n",
       "      <td>0.8132</td>\n",
       "    </tr>\n",
       "  </tbody>\n",
       "</table>\n",
       "</div>"
      ],
      "text/plain": [
       "  No. layers No. neurons act_func   opt   train    test\n",
       "0          5          50     ReLu  Adam  0.7874  0.8623\n",
       "1          5          70     ReLu  Adam  0.7854  0.8626\n",
       "2          5          98     ReLu  Adam  0.7910  0.8748\n",
       "3          5         137     ReLu  Adam  0.8337  0.8819\n",
       "4          5         191     ReLu  Adam  0.8073  0.8677\n",
       "5          5         266     ReLu  Adam  0.8408  0.8843\n",
       "6          5         370     ReLu  Adam  0.8034  0.8577\n",
       "7          5         516     ReLu  Adam  0.8205  0.8757\n",
       "8          5         718     ReLu  Adam  0.8561  0.8971\n",
       "9          5        1000     ReLu  Adam  0.7800  0.8132"
      ]
     },
     "execution_count": 25,
     "metadata": {},
     "output_type": "execute_result"
    }
   ],
   "source": [
    "for n_neuron in tqdm(n_neurons):\n",
    "    input_layer = Input(shape=(X_train.shape[1],))\n",
    "    dense_layer_1 = Dense(n_neuron, activation='relu')(input_layer)\n",
    "    dense_layer_2 = Dense(n_neuron, activation='relu')(dense_layer_1)\n",
    "    dense_layer_3 = Dense(n_neuron, activation='relu')(dense_layer_2)\n",
    "    output = Dense(1)(dense_layer_3)\n",
    "\n",
    "    model = Model(inputs=input_layer, outputs=output)\n",
    "    model.compile(loss=\"mean_squared_error\", optimizer=\"adam\", metrics=[\"mean_squared_error\"])\n",
    "\n",
    "    history = model.fit(X_train, y_train, \n",
    "                        batch_size=1, \n",
    "                        epochs=10, \n",
    "                        verbose=0,\n",
    "                        validation_data=(X_test, y_test),\n",
    "                       )\n",
    "\n",
    "    y_pred_train = model.predict(X_train)\n",
    "\n",
    "    y_pred_test = model.predict(X_test)\n",
    "\n",
    "    r2_train = round(r2_score(y_train, y_pred_train), 4)\n",
    "    r2_test = round(r2_score(y_test, y_pred_test), 4)\n",
    "\n",
    "    df.loc[i] = [5, n_neuron, 'ReLu', 'Adam', r2_train, r2_test]\n",
    "    i += 1\n",
    "df"
   ]
  },
  {
   "cell_type": "code",
   "execution_count": 26,
   "metadata": {
    "ExecuteTime": {
     "end_time": "2021-05-10T22:41:29.551857Z",
     "start_time": "2021-05-10T22:41:29.362766Z"
    }
   },
   "outputs": [
    {
     "data": {
      "image/png": "[encoded data removed]",
      "text/plain": [
       "<Figure size 432x288 with 1 Axes>"
      ]
     },
     "metadata": {
      "needs_background": "light"
     },
     "output_type": "display_data"
    }
   ],
   "source": [
    "plt.plot(df['No. neurons'], df['train'], label='train')\n",
    "plt.plot(df['No. neurons'], df['test'], label='test')\n",
    "plt.legend();"
   ]
  },
  {
   "attachments": {},
   "cell_type": "markdown",
   "metadata": {},
   "source": [
    "### 6 слоёв, 50-100 нейронов"
   ]
  },
  {
   "cell_type": "code",
   "execution_count": 27,
   "metadata": {
    "ExecuteTime": {
     "end_time": "2021-05-10T22:41:29.567860Z",
     "start_time": "2021-05-10T22:41:29.553857Z"
    }
   },
   "outputs": [],
   "source": [
    "df = pd.DataFrame(columns=['No. layers', 'No. neurons', 'act_func', 'opt', 'train', 'test'])\n",
    "i = 0"
   ]
  },
  {
   "cell_type": "code",
   "execution_count": 28,
   "metadata": {
    "ExecuteTime": {
     "end_time": "2021-05-10T22:43:03.872354Z",
     "start_time": "2021-05-10T22:41:29.569854Z"
    }
   },
   "outputs": [
    {
     "name": "stderr",
     "output_type": "stream",
     "text": [
      "                                                                                                                       \r"
     ]
    },
    {
     "data": {
      "text/html": [
       "<div>\n",
       "<style scoped>\n",
       "    .dataframe tbody tr th:only-of-type {\n",
       "        vertical-align: middle;\n",
       "    }\n",
       "\n",
       "    .dataframe tbody tr th {\n",
       "        vertical-align: top;\n",
       "    }\n",
       "\n",
       "    .dataframe thead th {\n",
       "        text-align: right;\n",
       "    }\n",
       "</style>\n",
       "<table border=\"1\" class=\"dataframe\">\n",
       "  <thead>\n",
       "    <tr style=\"text-align: right;\">\n",
       "      <th></th>\n",
       "      <th>No. layers</th>\n",
       "      <th>No. neurons</th>\n",
       "      <th>act_func</th>\n",
       "      <th>opt</th>\n",
       "      <th>train</th>\n",
       "      <th>test</th>\n",
       "    </tr>\n",
       "  </thead>\n",
       "  <tbody>\n",
       "    <tr>\n",
       "      <th>0</th>\n",
       "      <td>6</td>\n",
       "      <td>50</td>\n",
       "      <td>ReLu</td>\n",
       "      <td>Adam</td>\n",
       "      <td>0.8026</td>\n",
       "      <td>0.8708</td>\n",
       "    </tr>\n",
       "    <tr>\n",
       "      <th>1</th>\n",
       "      <td>6</td>\n",
       "      <td>70</td>\n",
       "      <td>ReLu</td>\n",
       "      <td>Adam</td>\n",
       "      <td>0.8211</td>\n",
       "      <td>0.8815</td>\n",
       "    </tr>\n",
       "    <tr>\n",
       "      <th>2</th>\n",
       "      <td>6</td>\n",
       "      <td>98</td>\n",
       "      <td>ReLu</td>\n",
       "      <td>Adam</td>\n",
       "      <td>0.7946</td>\n",
       "      <td>0.8510</td>\n",
       "    </tr>\n",
       "    <tr>\n",
       "      <th>3</th>\n",
       "      <td>6</td>\n",
       "      <td>137</td>\n",
       "      <td>ReLu</td>\n",
       "      <td>Adam</td>\n",
       "      <td>0.8047</td>\n",
       "      <td>0.8402</td>\n",
       "    </tr>\n",
       "    <tr>\n",
       "      <th>4</th>\n",
       "      <td>6</td>\n",
       "      <td>191</td>\n",
       "      <td>ReLu</td>\n",
       "      <td>Adam</td>\n",
       "      <td>0.8628</td>\n",
       "      <td>0.8931</td>\n",
       "    </tr>\n",
       "    <tr>\n",
       "      <th>5</th>\n",
       "      <td>6</td>\n",
       "      <td>266</td>\n",
       "      <td>ReLu</td>\n",
       "      <td>Adam</td>\n",
       "      <td>0.7911</td>\n",
       "      <td>0.8316</td>\n",
       "    </tr>\n",
       "    <tr>\n",
       "      <th>6</th>\n",
       "      <td>6</td>\n",
       "      <td>370</td>\n",
       "      <td>ReLu</td>\n",
       "      <td>Adam</td>\n",
       "      <td>0.8679</td>\n",
       "      <td>0.8938</td>\n",
       "    </tr>\n",
       "    <tr>\n",
       "      <th>7</th>\n",
       "      <td>6</td>\n",
       "      <td>516</td>\n",
       "      <td>ReLu</td>\n",
       "      <td>Adam</td>\n",
       "      <td>0.8678</td>\n",
       "      <td>0.9084</td>\n",
       "    </tr>\n",
       "    <tr>\n",
       "      <th>8</th>\n",
       "      <td>6</td>\n",
       "      <td>718</td>\n",
       "      <td>ReLu</td>\n",
       "      <td>Adam</td>\n",
       "      <td>0.8231</td>\n",
       "      <td>0.8764</td>\n",
       "    </tr>\n",
       "    <tr>\n",
       "      <th>9</th>\n",
       "      <td>6</td>\n",
       "      <td>1000</td>\n",
       "      <td>ReLu</td>\n",
       "      <td>Adam</td>\n",
       "      <td>0.8164</td>\n",
       "      <td>0.8601</td>\n",
       "    </tr>\n",
       "  </tbody>\n",
       "</table>\n",
       "</div>"
      ],
      "text/plain": [
       "  No. layers No. neurons act_func   opt   train    test\n",
       "0          6          50     ReLu  Adam  0.8026  0.8708\n",
       "1          6          70     ReLu  Adam  0.8211  0.8815\n",
       "2          6          98     ReLu  Adam  0.7946  0.8510\n",
       "3          6         137     ReLu  Adam  0.8047  0.8402\n",
       "4          6         191     ReLu  Adam  0.8628  0.8931\n",
       "5          6         266     ReLu  Adam  0.7911  0.8316\n",
       "6          6         370     ReLu  Adam  0.8679  0.8938\n",
       "7          6         516     ReLu  Adam  0.8678  0.9084\n",
       "8          6         718     ReLu  Adam  0.8231  0.8764\n",
       "9          6        1000     ReLu  Adam  0.8164  0.8601"
      ]
     },
     "execution_count": 28,
     "metadata": {},
     "output_type": "execute_result"
    }
   ],
   "source": [
    "for n_neuron in tqdm(n_neurons, leave=False):\n",
    "    input_layer = Input(shape=(X_train.shape[1],))\n",
    "    dense_layer_1 = Dense(n_neuron, activation='relu')(input_layer)\n",
    "    dense_layer_2 = Dense(n_neuron, activation='relu')(dense_layer_1)\n",
    "    dense_layer_3 = Dense(n_neuron, activation='relu')(dense_layer_2)\n",
    "    dense_layer_4 = Dense(n_neuron, activation='relu')(dense_layer_3)\n",
    "    output = Dense(1)(dense_layer_4)\n",
    "\n",
    "    model = Model(inputs=input_layer, outputs=output)\n",
    "    model.compile(loss=\"mean_squared_error\", optimizer=\"adam\", metrics=[\"mean_squared_error\"])\n",
    "\n",
    "    history = model.fit(X_train, y_train, \n",
    "                        batch_size=1, \n",
    "                        epochs=10, \n",
    "                        verbose=0,\n",
    "                        validation_data=(X_test, y_test),\n",
    "                       )\n",
    "\n",
    "    y_pred_train = model.predict(X_train)\n",
    "\n",
    "    y_pred_test = model.predict(X_test)\n",
    "\n",
    "    r2_train = round(r2_score(y_train, y_pred_train), 4)\n",
    "    r2_test = round(r2_score(y_test, y_pred_test), 4)\n",
    "\n",
    "    df.loc[i] = [6, n_neuron, 'ReLu', 'Adam', r2_train, r2_test]\n",
    "    i += 1\n",
    "df"
   ]
  },
  {
   "cell_type": "code",
   "execution_count": 29,
   "metadata": {
    "ExecuteTime": {
     "end_time": "2021-05-10T22:43:04.045357Z",
     "start_time": "2021-05-10T22:43:03.874317Z"
    }
   },
   "outputs": [
    {
     "data": {
      "image/png": "[encoded data removed]",
      "text/plain": [
       "<Figure size 432x288 with 1 Axes>"
      ]
     },
     "metadata": {
      "needs_background": "light"
     },
     "output_type": "display_data"
    }
   ],
   "source": [
    "plt.plot(df['No. neurons'], df['train'], label='train')\n",
    "plt.plot(df['No. neurons'], df['test'], label='test')\n",
    "plt.legend();"
   ]
  },
  {
   "attachments": {},
   "cell_type": "markdown",
   "metadata": {},
   "source": [
    "### 7 слоёв, 50-100 нейронов"
   ]
  },
  {
   "cell_type": "code",
   "execution_count": 30,
   "metadata": {
    "ExecuteTime": {
     "end_time": "2021-05-10T22:43:04.061315Z",
     "start_time": "2021-05-10T22:43:04.047321Z"
    }
   },
   "outputs": [],
   "source": [
    "df = pd.DataFrame(columns=['No. layers', 'No. neurons', 'act_func', 'opt', 'train', 'test'])\n",
    "i = 0"
   ]
  },
  {
   "cell_type": "code",
   "execution_count": 31,
   "metadata": {
    "ExecuteTime": {
     "end_time": "2021-05-10T22:45:06.649800Z",
     "start_time": "2021-05-10T22:43:04.063317Z"
    }
   },
   "outputs": [
    {
     "name": "stderr",
     "output_type": "stream",
     "text": [
      "100%|██████████████████████████████████████████████████████████████████████████████████| 10/10 [02:02<00:00, 12.26s/it]\n"
     ]
    },
    {
     "data": {
      "text/html": [
       "<div>\n",
       "<style scoped>\n",
       "    .dataframe tbody tr th:only-of-type {\n",
       "        vertical-align: middle;\n",
       "    }\n",
       "\n",
       "    .dataframe tbody tr th {\n",
       "        vertical-align: top;\n",
       "    }\n",
       "\n",
       "    .dataframe thead th {\n",
       "        text-align: right;\n",
       "    }\n",
       "</style>\n",
       "<table border=\"1\" class=\"dataframe\">\n",
       "  <thead>\n",
       "    <tr style=\"text-align: right;\">\n",
       "      <th></th>\n",
       "      <th>No. layers</th>\n",
       "      <th>No. neurons</th>\n",
       "      <th>act_func</th>\n",
       "      <th>opt</th>\n",
       "      <th>train</th>\n",
       "      <th>test</th>\n",
       "    </tr>\n",
       "  </thead>\n",
       "  <tbody>\n",
       "    <tr>\n",
       "      <th>0</th>\n",
       "      <td>7</td>\n",
       "      <td>50</td>\n",
       "      <td>ReLu</td>\n",
       "      <td>Adam</td>\n",
       "      <td>0.8334</td>\n",
       "      <td>0.9037</td>\n",
       "    </tr>\n",
       "    <tr>\n",
       "      <th>1</th>\n",
       "      <td>7</td>\n",
       "      <td>70</td>\n",
       "      <td>ReLu</td>\n",
       "      <td>Adam</td>\n",
       "      <td>0.8508</td>\n",
       "      <td>0.8969</td>\n",
       "    </tr>\n",
       "    <tr>\n",
       "      <th>2</th>\n",
       "      <td>7</td>\n",
       "      <td>98</td>\n",
       "      <td>ReLu</td>\n",
       "      <td>Adam</td>\n",
       "      <td>0.6895</td>\n",
       "      <td>0.7212</td>\n",
       "    </tr>\n",
       "    <tr>\n",
       "      <th>3</th>\n",
       "      <td>7</td>\n",
       "      <td>137</td>\n",
       "      <td>ReLu</td>\n",
       "      <td>Adam</td>\n",
       "      <td>0.7155</td>\n",
       "      <td>0.7817</td>\n",
       "    </tr>\n",
       "    <tr>\n",
       "      <th>4</th>\n",
       "      <td>7</td>\n",
       "      <td>191</td>\n",
       "      <td>ReLu</td>\n",
       "      <td>Adam</td>\n",
       "      <td>0.8029</td>\n",
       "      <td>0.8574</td>\n",
       "    </tr>\n",
       "    <tr>\n",
       "      <th>5</th>\n",
       "      <td>7</td>\n",
       "      <td>266</td>\n",
       "      <td>ReLu</td>\n",
       "      <td>Adam</td>\n",
       "      <td>0.8345</td>\n",
       "      <td>0.8423</td>\n",
       "    </tr>\n",
       "    <tr>\n",
       "      <th>6</th>\n",
       "      <td>7</td>\n",
       "      <td>370</td>\n",
       "      <td>ReLu</td>\n",
       "      <td>Adam</td>\n",
       "      <td>0.7682</td>\n",
       "      <td>0.8201</td>\n",
       "    </tr>\n",
       "    <tr>\n",
       "      <th>7</th>\n",
       "      <td>7</td>\n",
       "      <td>516</td>\n",
       "      <td>ReLu</td>\n",
       "      <td>Adam</td>\n",
       "      <td>0.6826</td>\n",
       "      <td>0.6804</td>\n",
       "    </tr>\n",
       "    <tr>\n",
       "      <th>8</th>\n",
       "      <td>7</td>\n",
       "      <td>718</td>\n",
       "      <td>ReLu</td>\n",
       "      <td>Adam</td>\n",
       "      <td>0.2940</td>\n",
       "      <td>0.3277</td>\n",
       "    </tr>\n",
       "    <tr>\n",
       "      <th>9</th>\n",
       "      <td>7</td>\n",
       "      <td>1000</td>\n",
       "      <td>ReLu</td>\n",
       "      <td>Adam</td>\n",
       "      <td>0.8488</td>\n",
       "      <td>0.8878</td>\n",
       "    </tr>\n",
       "  </tbody>\n",
       "</table>\n",
       "</div>"
      ],
      "text/plain": [
       "  No. layers No. neurons act_func   opt   train    test\n",
       "0          7          50     ReLu  Adam  0.8334  0.9037\n",
       "1          7          70     ReLu  Adam  0.8508  0.8969\n",
       "2          7          98     ReLu  Adam  0.6895  0.7212\n",
       "3          7         137     ReLu  Adam  0.7155  0.7817\n",
       "4          7         191     ReLu  Adam  0.8029  0.8574\n",
       "5          7         266     ReLu  Adam  0.8345  0.8423\n",
       "6          7         370     ReLu  Adam  0.7682  0.8201\n",
       "7          7         516     ReLu  Adam  0.6826  0.6804\n",
       "8          7         718     ReLu  Adam  0.2940  0.3277\n",
       "9          7        1000     ReLu  Adam  0.8488  0.8878"
      ]
     },
     "execution_count": 31,
     "metadata": {},
     "output_type": "execute_result"
    }
   ],
   "source": [
    "for n_neuron in tqdm(n_neurons):\n",
    "    input_layer = Input(shape=(X_train.shape[1],))\n",
    "    dense_layer_1 = Dense(n_neuron, activation='relu')(input_layer)\n",
    "    dense_layer_2 = Dense(n_neuron, activation='relu')(dense_layer_1)\n",
    "    dense_layer_3 = Dense(n_neuron, activation='relu')(dense_layer_2)\n",
    "    dense_layer_4 = Dense(n_neuron, activation='relu')(dense_layer_3)\n",
    "    dense_layer_5 = Dense(n_neuron, activation='relu')(dense_layer_4)\n",
    "    output = Dense(1)(dense_layer_5)\n",
    "\n",
    "    model = Model(inputs=input_layer, outputs=output)\n",
    "    model.compile(loss=\"mean_squared_error\", optimizer=\"adam\", metrics=[\"mean_squared_error\"])\n",
    "\n",
    "    history = model.fit(X_train, y_train, \n",
    "                        batch_size=1, \n",
    "                        epochs=10, \n",
    "                        verbose=0,\n",
    "                        validation_data=(X_test, y_test),\n",
    "                       )\n",
    "\n",
    "    y_pred_train = model.predict(X_train)\n",
    "\n",
    "    y_pred_test = model.predict(X_test)\n",
    "\n",
    "    r2_train = round(r2_score(y_train, y_pred_train), 4)\n",
    "    r2_test = round(r2_score(y_test, y_pred_test), 4)\n",
    "\n",
    "    df.loc[i] = [7, n_neuron, 'ReLu', 'Adam', r2_train, r2_test]\n",
    "    i += 1\n",
    "df"
   ]
  },
  {
   "cell_type": "code",
   "execution_count": 32,
   "metadata": {
    "ExecuteTime": {
     "end_time": "2021-05-10T22:45:06.824396Z",
     "start_time": "2021-05-10T22:45:06.650773Z"
    }
   },
   "outputs": [
    {
     "data": {
      "image/png": "[encoded data removed]",
      "text/plain": [
       "<Figure size 432x288 with 1 Axes>"
      ]
     },
     "metadata": {
      "needs_background": "light"
     },
     "output_type": "display_data"
    }
   ],
   "source": [
    "plt.plot(df['No. neurons'], df['train'], label='train')\n",
    "plt.plot(df['No. neurons'], df['test'], label='test')\n",
    "plt.legend();"
   ]
  },
  {
   "attachments": {},
   "cell_type": "markdown",
   "metadata": {},
   "source": [
    "### 9 слоёв, 50-100 нейронов, ReLU, Adam"
   ]
  },
  {
   "cell_type": "code",
   "execution_count": 33,
   "metadata": {
    "ExecuteTime": {
     "end_time": "2021-05-10T22:45:06.840405Z",
     "start_time": "2021-05-10T22:45:06.826354Z"
    }
   },
   "outputs": [],
   "source": [
    "df = pd.DataFrame(columns=['No. layers', 'No. neurons', 'act_func', 'opt', 'train', 'test'])\n",
    "i = 0"
   ]
  },
  {
   "cell_type": "code",
   "execution_count": 34,
   "metadata": {
    "ExecuteTime": {
     "end_time": "2021-05-10T22:47:42.805309Z",
     "start_time": "2021-05-10T22:45:06.841355Z"
    }
   },
   "outputs": [
    {
     "name": "stderr",
     "output_type": "stream",
     "text": [
      "100%|██████████████████████████████████████████████████████████████████████████████████| 10/10 [02:35<00:00, 15.59s/it]\n"
     ]
    },
    {
     "data": {
      "text/html": [
       "<div>\n",
       "<style scoped>\n",
       "    .dataframe tbody tr th:only-of-type {\n",
       "        vertical-align: middle;\n",
       "    }\n",
       "\n",
       "    .dataframe tbody tr th {\n",
       "        vertical-align: top;\n",
       "    }\n",
       "\n",
       "    .dataframe thead th {\n",
       "        text-align: right;\n",
       "    }\n",
       "</style>\n",
       "<table border=\"1\" class=\"dataframe\">\n",
       "  <thead>\n",
       "    <tr style=\"text-align: right;\">\n",
       "      <th></th>\n",
       "      <th>No. layers</th>\n",
       "      <th>No. neurons</th>\n",
       "      <th>act_func</th>\n",
       "      <th>opt</th>\n",
       "      <th>train</th>\n",
       "      <th>test</th>\n",
       "    </tr>\n",
       "  </thead>\n",
       "  <tbody>\n",
       "    <tr>\n",
       "      <th>0</th>\n",
       "      <td>9</td>\n",
       "      <td>50</td>\n",
       "      <td>ReLu</td>\n",
       "      <td>Adam</td>\n",
       "      <td>0.8277</td>\n",
       "      <td>0.8867</td>\n",
       "    </tr>\n",
       "    <tr>\n",
       "      <th>1</th>\n",
       "      <td>9</td>\n",
       "      <td>70</td>\n",
       "      <td>ReLu</td>\n",
       "      <td>Adam</td>\n",
       "      <td>0.1943</td>\n",
       "      <td>0.2699</td>\n",
       "    </tr>\n",
       "    <tr>\n",
       "      <th>2</th>\n",
       "      <td>9</td>\n",
       "      <td>98</td>\n",
       "      <td>ReLu</td>\n",
       "      <td>Adam</td>\n",
       "      <td>0.7532</td>\n",
       "      <td>0.8227</td>\n",
       "    </tr>\n",
       "    <tr>\n",
       "      <th>3</th>\n",
       "      <td>9</td>\n",
       "      <td>137</td>\n",
       "      <td>ReLu</td>\n",
       "      <td>Adam</td>\n",
       "      <td>0.7726</td>\n",
       "      <td>0.8280</td>\n",
       "    </tr>\n",
       "    <tr>\n",
       "      <th>4</th>\n",
       "      <td>9</td>\n",
       "      <td>191</td>\n",
       "      <td>ReLu</td>\n",
       "      <td>Adam</td>\n",
       "      <td>0.7516</td>\n",
       "      <td>0.7820</td>\n",
       "    </tr>\n",
       "    <tr>\n",
       "      <th>5</th>\n",
       "      <td>9</td>\n",
       "      <td>266</td>\n",
       "      <td>ReLu</td>\n",
       "      <td>Adam</td>\n",
       "      <td>0.6934</td>\n",
       "      <td>0.7693</td>\n",
       "    </tr>\n",
       "    <tr>\n",
       "      <th>6</th>\n",
       "      <td>9</td>\n",
       "      <td>370</td>\n",
       "      <td>ReLu</td>\n",
       "      <td>Adam</td>\n",
       "      <td>0.5622</td>\n",
       "      <td>0.6557</td>\n",
       "    </tr>\n",
       "    <tr>\n",
       "      <th>7</th>\n",
       "      <td>9</td>\n",
       "      <td>516</td>\n",
       "      <td>ReLu</td>\n",
       "      <td>Adam</td>\n",
       "      <td>0.7526</td>\n",
       "      <td>0.8085</td>\n",
       "    </tr>\n",
       "    <tr>\n",
       "      <th>8</th>\n",
       "      <td>9</td>\n",
       "      <td>718</td>\n",
       "      <td>ReLu</td>\n",
       "      <td>Adam</td>\n",
       "      <td>0.7515</td>\n",
       "      <td>0.8068</td>\n",
       "    </tr>\n",
       "    <tr>\n",
       "      <th>9</th>\n",
       "      <td>9</td>\n",
       "      <td>1000</td>\n",
       "      <td>ReLu</td>\n",
       "      <td>Adam</td>\n",
       "      <td>0.7744</td>\n",
       "      <td>0.8282</td>\n",
       "    </tr>\n",
       "  </tbody>\n",
       "</table>\n",
       "</div>"
      ],
      "text/plain": [
       "  No. layers No. neurons act_func   opt   train    test\n",
       "0          9          50     ReLu  Adam  0.8277  0.8867\n",
       "1          9          70     ReLu  Adam  0.1943  0.2699\n",
       "2          9          98     ReLu  Adam  0.7532  0.8227\n",
       "3          9         137     ReLu  Adam  0.7726  0.8280\n",
       "4          9         191     ReLu  Adam  0.7516  0.7820\n",
       "5          9         266     ReLu  Adam  0.6934  0.7693\n",
       "6          9         370     ReLu  Adam  0.5622  0.6557\n",
       "7          9         516     ReLu  Adam  0.7526  0.8085\n",
       "8          9         718     ReLu  Adam  0.7515  0.8068\n",
       "9          9        1000     ReLu  Adam  0.7744  0.8282"
      ]
     },
     "execution_count": 34,
     "metadata": {},
     "output_type": "execute_result"
    }
   ],
   "source": [
    "for n_neuron in tqdm(n_neurons):\n",
    "    input_layer = Input(shape=(X_train.shape[1],))\n",
    "    dense_layer_1 = Dense(n_neuron, activation='relu')(input_layer)\n",
    "    dense_layer_2 = Dense(n_neuron, activation='relu')(dense_layer_1)\n",
    "    dense_layer_3 = Dense(n_neuron, activation='relu')(dense_layer_2)\n",
    "    dense_layer_4 = Dense(n_neuron, activation='relu')(dense_layer_3)\n",
    "    dense_layer_5 = Dense(n_neuron, activation='relu')(dense_layer_4)\n",
    "    dense_layer_6 = Dense(n_neuron, activation='relu')(dense_layer_5)\n",
    "    dense_layer_7 = Dense(n_neuron, activation='relu')(dense_layer_6)\n",
    "    output = Dense(1)(dense_layer_7)\n",
    "\n",
    "    model = Model(inputs=input_layer, outputs=output)\n",
    "    model.compile(loss=\"mean_squared_error\", optimizer=\"adam\", metrics=[\"mean_squared_error\"])\n",
    "\n",
    "    history = model.fit(X_train, y_train, \n",
    "                        batch_size=1, \n",
    "                        epochs=10, \n",
    "                        verbose=0,\n",
    "                        validation_data=(X_test, y_test),\n",
    "                       )\n",
    "\n",
    "    y_pred_train = model.predict(X_train)\n",
    "\n",
    "    y_pred_test = model.predict(X_test)\n",
    "\n",
    "    r2_train = round(r2_score(y_train, y_pred_train), 4)\n",
    "    r2_test = round(r2_score(y_test, y_pred_test), 4)\n",
    "\n",
    "    df.loc[i] = [9, n_neuron, 'ReLu', 'Adam', r2_train, r2_test]\n",
    "    i += 1\n",
    "df"
   ]
  },
  {
   "cell_type": "code",
   "execution_count": 35,
   "metadata": {
    "ExecuteTime": {
     "end_time": "2021-05-10T22:47:42.977909Z",
     "start_time": "2021-05-10T22:47:42.806307Z"
    }
   },
   "outputs": [
    {
     "data": {
      "image/png": "[encoded data removed]",
      "text/plain": [
       "<Figure size 432x288 with 1 Axes>"
      ]
     },
     "metadata": {
      "needs_background": "light"
     },
     "output_type": "display_data"
    }
   ],
   "source": [
    "plt.plot(df['No. neurons'], df['train'], label='train')\n",
    "plt.plot(df['No. neurons'], df['test'], label='test')\n",
    "plt.legend();"
   ]
  },
  {
   "attachments": {},
   "cell_type": "markdown",
   "metadata": {},
   "source": [
    "## Подитог:\n",
    "\n",
    "Четыре - самое оптимальное число слоёв. При трёх - недообучение. Пять и выше - метрики начинают снижаться и обучение становится нестабильным.\n",
    "\n",
    "Переучим модель с четырьмя слоями и batch - 1 и оптимальным количеством нейронов - 400."
   ]
  },
  {
   "attachments": {},
   "cell_type": "markdown",
   "metadata": {},
   "source": [
    "# Финальная модель\n",
    "\n",
    "4 слоя, батч = 1"
   ]
  },
  {
   "cell_type": "code",
   "execution_count": 42,
   "metadata": {
    "ExecuteTime": {
     "end_time": "2021-05-10T23:09:03.853450Z",
     "start_time": "2021-05-10T23:09:03.844901Z"
    }
   },
   "outputs": [],
   "source": [
    "df = pd.DataFrame(columns=['No. layers', 'epoches', 'act_func', 'opt', 'train', 'test'])\n",
    "i = 0"
   ]
  },
  {
   "cell_type": "code",
   "execution_count": 43,
   "metadata": {
    "ExecuteTime": {
     "end_time": "2021-05-10T23:13:59.224537Z",
     "start_time": "2021-05-10T23:09:35.446931Z"
    }
   },
   "outputs": [
    {
     "name": "stderr",
     "output_type": "stream",
     "text": [
      "100%|████████████████████████████████████████████████████████████████████████████████████| 5/5 [04:23<00:00, 52.75s/it]\n"
     ]
    },
    {
     "data": {
      "text/html": [
       "<div>\n",
       "<style scoped>\n",
       "    .dataframe tbody tr th:only-of-type {\n",
       "        vertical-align: middle;\n",
       "    }\n",
       "\n",
       "    .dataframe tbody tr th {\n",
       "        vertical-align: top;\n",
       "    }\n",
       "\n",
       "    .dataframe thead th {\n",
       "        text-align: right;\n",
       "    }\n",
       "</style>\n",
       "<table border=\"1\" class=\"dataframe\">\n",
       "  <thead>\n",
       "    <tr style=\"text-align: right;\">\n",
       "      <th></th>\n",
       "      <th>No. layers</th>\n",
       "      <th>epoches</th>\n",
       "      <th>act_func</th>\n",
       "      <th>opt</th>\n",
       "      <th>train</th>\n",
       "      <th>test</th>\n",
       "    </tr>\n",
       "  </thead>\n",
       "  <tbody>\n",
       "    <tr>\n",
       "      <th>0</th>\n",
       "      <td>4</td>\n",
       "      <td>10</td>\n",
       "      <td>ReLu</td>\n",
       "      <td>Adam</td>\n",
       "      <td>0.7998</td>\n",
       "      <td>0.8609</td>\n",
       "    </tr>\n",
       "    <tr>\n",
       "      <th>1</th>\n",
       "      <td>4</td>\n",
       "      <td>50</td>\n",
       "      <td>ReLu</td>\n",
       "      <td>Adam</td>\n",
       "      <td>0.9236</td>\n",
       "      <td>0.9222</td>\n",
       "    </tr>\n",
       "    <tr>\n",
       "      <th>2</th>\n",
       "      <td>4</td>\n",
       "      <td>100</td>\n",
       "      <td>ReLu</td>\n",
       "      <td>Adam</td>\n",
       "      <td>0.9529</td>\n",
       "      <td>0.9005</td>\n",
       "    </tr>\n",
       "    <tr>\n",
       "      <th>3</th>\n",
       "      <td>4</td>\n",
       "      <td>200</td>\n",
       "      <td>ReLu</td>\n",
       "      <td>Adam</td>\n",
       "      <td>0.9719</td>\n",
       "      <td>0.9217</td>\n",
       "    </tr>\n",
       "    <tr>\n",
       "      <th>4</th>\n",
       "      <td>4</td>\n",
       "      <td>500</td>\n",
       "      <td>ReLu</td>\n",
       "      <td>Adam</td>\n",
       "      <td>0.9828</td>\n",
       "      <td>0.9011</td>\n",
       "    </tr>\n",
       "  </tbody>\n",
       "</table>\n",
       "</div>"
      ],
      "text/plain": [
       "  No. layers epoches act_func   opt   train    test\n",
       "0          4      10     ReLu  Adam  0.7998  0.8609\n",
       "1          4      50     ReLu  Adam  0.9236  0.9222\n",
       "2          4     100     ReLu  Adam  0.9529  0.9005\n",
       "3          4     200     ReLu  Adam  0.9719  0.9217\n",
       "4          4     500     ReLu  Adam  0.9828  0.9011"
      ]
     },
     "execution_count": 43,
     "metadata": {},
     "output_type": "execute_result"
    }
   ],
   "source": [
    "for epoch in tqdm([10, 50, 100, 200, 500]):\n",
    "    input_layer = Input(shape=(X_train.shape[1],))\n",
    "    dense_layer_1 = Dense(400, activation='relu')(input_layer)\n",
    "    dense_layer_2 = Dense(400, activation='relu')(dense_layer_1)\n",
    "    output = Dense(1)(dense_layer_2)\n",
    "\n",
    "    model = Model(inputs=input_layer, outputs=output)\n",
    "    model.compile(loss=\"mean_squared_error\", optimizer=\"adam\", metrics=[\"mean_squared_error\"])\n",
    "\n",
    "    history = model.fit(X_train, y_train, \n",
    "                        batch_size=1, \n",
    "                        epochs=epoch, \n",
    "                        verbose=0,\n",
    "                        validation_data=(X_test, y_test),\n",
    "                       )\n",
    "\n",
    "    y_pred_train = model.predict(X_train)\n",
    "\n",
    "    y_pred_test = model.predict(X_test)\n",
    "\n",
    "    r2_train = round(r2_score(y_train, y_pred_train), 4)\n",
    "    r2_test = round(r2_score(y_test, y_pred_test), 4)\n",
    "\n",
    "    df.loc[i] = [4, epoch, 'ReLu', 'Adam', r2_train, r2_test]\n",
    "    i += 1\n",
    "df"
   ]
  },
  {
   "cell_type": "code",
   "execution_count": 44,
   "metadata": {
    "ExecuteTime": {
     "end_time": "2021-05-10T23:13:59.667707Z",
     "start_time": "2021-05-10T23:13:59.510670Z"
    }
   },
   "outputs": [
    {
     "data": {
      "image/png": "[encoded data removed]",
      "text/plain": [
       "<Figure size 432x288 with 1 Axes>"
      ]
     },
     "metadata": {
      "needs_background": "light"
     },
     "output_type": "display_data"
    }
   ],
   "source": [
    "plt.plot(df['epoches'], df['train'], label='train')\n",
    "plt.plot(df['epoches'], df['test'], label='test')\n",
    "plt.legend();"
   ]
  },
  {
   "attachments": {},
   "cell_type": "markdown",
   "metadata": {},
   "source": [
    "# Вывод:\n",
    "\n",
    "Количество эпох должно быть небольшим. При росте эпох увеличивается переобучяемость модели.\n",
    "\n",
    "Лучшая модель: 4 слоя, 1 batch и 50 эпох"
   ]
  }
 ],
 "metadata": {
  "kernelspec": {
   "display_name": "Python 3 (ipykernel)",
   "language": "python",
   "name": "python3"
  },
  "language_info": {
   "codemirror_mode": {
    "name": "ipython",
    "version": 3
   },
   "file_extension": ".py",
   "mimetype": "text/x-python",
   "name": "python",
   "nbconvert_exporter": "python",
   "pygments_lexer": "ipython3",
   "version": "3.9.13"
  },
  "toc": {
   "base_numbering": 1,
   "nav_menu": {},
   "number_sections": false,
   "sideBar": true,
   "skip_h1_title": false,
   "title_cell": "Table of Contents",
   "title_sidebar": "Contents",
   "toc_cell": false,
   "toc_position": {
    "height": "calc(100% - 180px)",
    "left": "10px",
    "top": "150px",
    "width": "307.2px"
   },
   "toc_section_display": true,
   "toc_window_display": true
  },
  "varInspector": {
   "cols": {
    "lenName": 16,
    "lenType": 16,
    "lenVar": 40
   },
   "kernels_config": {
    "python": {
     "delete_cmd_postfix": "",
     "delete_cmd_prefix": "del ",
     "library": "var_list.py",
     "varRefreshCmd": "print(var_dic_list())"
    },
    "r": {
     "delete_cmd_postfix": ") ",
     "delete_cmd_prefix": "rm(",
     "library": "var_list.r",
     "varRefreshCmd": "cat(var_dic_list()) "
    }
   },
   "types_to_exclude": [
    "module",
    "function",
    "builtin_function_or_method",
    "instance",
    "_Feature"
   ],
   "window_display": false
  }
 },
 "nbformat": 4,
 "nbformat_minor": 4
}
