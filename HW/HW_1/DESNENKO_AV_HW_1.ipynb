{
 "cells": [
  {
   "attachments": {},
   "cell_type": "markdown",
   "metadata": {},
   "source": [
    "## Домашнее задание <a class='anchor' id='hw'>\n",
    "\n",
    "1. Попробуйте видоизменить параметры разобранной на уроке двухслойной нейронной сети таким образом, чтобы улучшить ее точность.\n",
    "2. Проведите анализ — что приводит к ухудшению точности нейронной сети?\n",
    "3. Что приводит к увеличению ее точности?"
   ]
  },
  {
   "cell_type": "code",
   "execution_count": 1,
   "metadata": {
    "ExecuteTime": {
     "end_time": "2021-04-05T21:41:56.900033Z",
     "start_time": "2021-04-05T21:41:55.460468Z"
    }
   },
   "outputs": [],
   "source": [
    "import numpy as np\n",
    "import pandas as pd\n",
    "import seaborn as sns\n",
    "import matplotlib.pyplot as plt\n",
    "\n",
    "import warnings\n",
    "warnings.filterwarnings('ignore')\n",
    "\n",
    "from sklearn.model_selection import train_test_split\n",
    "from sklearn.datasets import load_digits\n",
    "from sklearn.preprocessing import MinMaxScaler"
   ]
  },
  {
   "cell_type": "code",
   "execution_count": 2,
   "metadata": {
    "ExecuteTime": {
     "end_time": "2021-04-05T21:41:57.581944Z",
     "start_time": "2021-04-05T21:41:56.901920Z"
    }
   },
   "outputs": [
    {
     "name": "stdout",
     "output_type": "stream",
     "text": [
      "(1797, 64)\n"
     ]
    },
    {
     "data": {
      "image/png": "[encoded data removed]",
      "text/plain": [
       "<Figure size 1152x432 with 10 Axes>"
      ]
     },
     "metadata": {
      "needs_background": "light"
     },
     "output_type": "display_data"
    }
   ],
   "source": [
    "# Подготовлю тренировочные данные\n",
    "X, y = load_digits(return_X_y=True)\n",
    "print(X.shape) # расскоментирю, чтобы посмотреть размер данных\n",
    "\n",
    "# репрезентация данных\n",
    "plt.figure(figsize=(16, 6))\n",
    "for i in range(10):\n",
    "    plt.subplot(2, 5, i + 1)\n",
    "    plt.imshow(X[i,:].reshape([8, 8]))"
   ]
  },
  {
   "cell_type": "code",
   "execution_count": 3,
   "metadata": {
    "ExecuteTime": {
     "end_time": "2021-04-05T21:41:57.596974Z",
     "start_time": "2021-04-05T21:41:57.584945Z"
    }
   },
   "outputs": [
    {
     "data": {
      "text/plain": [
       "array([0, 1, 2, ..., 8, 9, 8])"
      ]
     },
     "execution_count": 3,
     "metadata": {},
     "output_type": "execute_result"
    }
   ],
   "source": [
    "y"
   ]
  },
  {
   "cell_type": "code",
   "execution_count": 4,
   "metadata": {
    "ExecuteTime": {
     "end_time": "2021-04-05T21:41:57.612489Z",
     "start_time": "2021-04-05T21:41:57.598487Z"
    }
   },
   "outputs": [],
   "source": [
    "def to_one_hot(Y):\n",
    "    n_col = np.max(Y) + 1\n",
    "    binarized = np.zeros((len(Y), n_col))\n",
    "    for i in range(len(Y)):\n",
    "        binarized[i, Y[i]] = 1\n",
    "    return binarized"
   ]
  },
  {
   "cell_type": "code",
   "execution_count": 5,
   "metadata": {
    "ExecuteTime": {
     "end_time": "2021-04-05T21:41:57.627721Z",
     "start_time": "2021-04-05T21:41:57.613486Z"
    }
   },
   "outputs": [
    {
     "data": {
      "text/plain": [
       "array([[1., 0., 0., ..., 0., 0., 0.],\n",
       "       [0., 1., 0., ..., 0., 0., 0.],\n",
       "       [0., 0., 1., ..., 0., 0., 0.],\n",
       "       ...,\n",
       "       [0., 0., 0., ..., 0., 1., 0.],\n",
       "       [0., 0., 0., ..., 0., 0., 1.],\n",
       "       [0., 0., 0., ..., 0., 1., 0.]])"
      ]
     },
     "metadata": {},
     "output_type": "display_data"
    },
    {
     "data": {
      "text/plain": [
       "(1797, 10)"
      ]
     },
     "metadata": {},
     "output_type": "display_data"
    }
   ],
   "source": [
    "# формирую входные данные\n",
    "X = scaler.fit_transform(X)\n",
    "\n",
    "# формирую выходны данные\n",
    "y = y.flatten()\n",
    "y = to_one_hot(y)\n",
    "display(y, y.shape)"
   ]
  },
  {
   "cell_type": "code",
   "execution_count": 7,
   "metadata": {
    "ExecuteTime": {
     "end_time": "2021-04-05T21:41:57.659100Z",
     "start_time": "2021-04-05T21:41:57.646743Z"
    }
   },
   "outputs": [],
   "source": [
    "# вычисляю сигмоиды функции\n",
    "def sigmoid(x):\n",
    "    return 1 / (1 + np.exp(-x))\n",
    "\n",
    "# вычисляю производные от сигмоид функции\n",
    "def sigmoid_deriv(x):\n",
    "    return sigmoid(x) * (1 - sigmoid(x))"
   ]
  },
  {
   "attachments": {},
   "cell_type": "markdown",
   "metadata": {},
   "source": [
    "## Обучение нейронки"
   ]
  },
  {
   "cell_type": "code",
   "execution_count": 8,
   "metadata": {
    "ExecuteTime": {
     "end_time": "2021-04-05T21:41:57.771108Z",
     "start_time": "2021-04-05T21:41:57.661110Z"
    }
   },
   "outputs": [],
   "source": [
    "\n",
    "\n",
    "# определяю число нейронов у скрытого слоя\n",
    "neuron_numb = 5\n",
    "\n",
    "# случайные веса\n",
    "np.random.seed(1)\n",
    "w0 = np.random.random((64, neuron_numb))  # для входного слоя    - 64 входа, neuron_numb выходов\n",
    "w1 = np.random.random((neuron_numb, 10))  # для внутреннего слоя - neuron_numb входов, 10 выходов\n",
    "\n",
    "# скорость обучения\n",
    "learning_rate = 0.1\n",
    "\n",
    "# количество итераций\n",
    "num_epochs = 100\n",
    "\n",
    "# массив для ошибок\n",
    "errors = []\n",
    "metrics = []\n",
    "\n",
    "# процесс обучения\n",
    "for i in range(num_epochs):\n",
    "\n",
    "    # прямое распространение\n",
    "    layer0 = X_train\n",
    "    layer1 = sigmoid(np.dot(layer0, w0))\n",
    "    layer2 = sigmoid(np.dot(layer1, w1))\n",
    "\n",
    "    # обратное распространение\n",
    "    #  с использованием градиентного спуска\n",
    "    layer2_error = layer2 - y_train  # производная функции потерь\n",
    "    layer2_grad = layer2_error * sigmoid_deriv(layer2)\n",
    "    \n",
    "    layer1_error = layer2_grad.dot(w1.T)\n",
    "    layer1_grad = layer1_error * sigmoid_deriv(layer1)\n",
    "    \n",
    "    w1 -= layer1.T.dot(layer2_grad) * learning_rate\n",
    "    w0 -= layer0.T.dot(layer1_grad) * learning_rate\n",
    "    \n",
    "    # ошибка модели\n",
    "    error = np.mean(np.abs(layer2_error))\n",
    "    errors.append(error)\n",
    "    \n",
    "    # метрики качества\n",
    "    preds = np.argmax(layer2, axis=1)\n",
    "    labels = np.argmax(y_train, axis=1)\n",
    "    accuracy = (preds == labels).sum() * 100 / len(labels)\n",
    "    metrics.append(accuracy)"
   ]
  },
  {
   "cell_type": "code",
   "execution_count": 9,
   "metadata": {
    "ExecuteTime": {
     "end_time": "2021-04-05T21:41:57.786146Z",
     "start_time": "2021-04-05T21:41:57.772107Z"
    }
   },
   "outputs": [
    {
     "data": {
      "text/plain": [
       "array([[0., 1., 0., 0., 0., 0., 0., 0., 0., 0.],\n",
       "       [0., 0., 0., 0., 0., 0., 0., 0., 0., 1.],\n",
       "       [1., 0., 0., 0., 0., 0., 0., 0., 0., 0.],\n",
       "       [0., 0., 0., 0., 0., 0., 0., 1., 0., 0.],\n",
       "       [0., 0., 0., 1., 0., 0., 0., 0., 0., 0.],\n",
       "       [0., 0., 0., 0., 1., 0., 0., 0., 0., 0.],\n",
       "       [0., 0., 0., 0., 0., 0., 0., 0., 0., 1.],\n",
       "       [0., 1., 0., 0., 0., 0., 0., 0., 0., 0.],\n",
       "       [0., 0., 0., 0., 0., 1., 0., 0., 0., 0.],\n",
       "       [0., 0., 0., 0., 1., 0., 0., 0., 0., 0.]])"
      ]
     },
     "execution_count": 9,
     "metadata": {},
     "output_type": "execute_result"
    }
   ],
   "source": [
    "y_train[:10]"
   ]
  },
  {
   "attachments": {},
   "cell_type": "markdown",
   "metadata": {},
   "source": [
    "**Изменю количество нейронов внутреннего слоя**"
   ]
  },
  {
   "cell_type": "code",
   "execution_count": 10,
   "metadata": {
    "ExecuteTime": {
     "end_time": "2021-04-05T21:42:40.857271Z",
     "start_time": "2021-04-05T21:41:57.787108Z"
    }
   },
   "outputs": [],
   "source": [
    "# Обучение нейронной сети\n",
    "\n",
    "# определяю число нейронов скрытого слоя\n",
    "#neuron_numb = 5\n",
    "df = pd.DataFrame(columns=['parametr name', 'value', 'train', 'test'])\n",
    "p = 0\n",
    "\n",
    "for neuron_numb in range(2, 101):\n",
    "    \n",
    "\n",
    "    # присваивание случайных весов\n",
    "    np.random.seed(1)\n",
    "    w0 = np.random.random((64, neuron_numb))  # для входного слоя    - 64 входа, neuron_numb выходов\n",
    "    w1 = np.random.random((neuron_numb, 10))  # для внутреннего слоя - neuron_numb входов, 10 выходов\n",
    "\n",
    "    # скорость обучения (learning rate)\n",
    "    learning_rate = 0.1\n",
    "\n",
    "    # количество итераций\n",
    "    num_epochs = 100\n",
    "\n",
    "    # массив для ошибок, чтобы потом построить график\n",
    "    errors = []\n",
    "    metrics = []\n",
    "\n",
    "\n",
    "    # процесс обучения\n",
    "    for i in range(num_epochs):\n",
    "\n",
    "        # прямое распространение\n",
    "        layer0 = X_train\n",
    "        layer1 = sigmoid(np.dot(layer0, w0))\n",
    "        layer2 = sigmoid(np.dot(layer1, w1))\n",
    "\n",
    "        # обратное распространение \n",
    "        #  с использованием градиентного спуска\n",
    "        layer2_error = layer2 - y_train  # производная функции потерь\n",
    "        layer2_grad = layer2_error * sigmoid_deriv(layer2)\n",
    "\n",
    "        layer1_error = layer2_grad.dot(w1.T)\n",
    "        layer1_grad = layer1_error * sigmoid_deriv(layer1)\n",
    "\n",
    "        w1 -= layer1.T.dot(layer2_grad) * learning_rate\n",
    "        w0 -= layer0.T.dot(layer1_grad) * learning_rate\n",
    "\n",
    "        # метрики качества\n",
    "        preds = np.argmax(layer2, axis=1)\n",
    "        labels = np.argmax(y_train, axis=1)\n",
    "        accuracy = (preds == labels).sum() * 100 / len(labels)\n",
    "    \n",
    "    # прямое распространение(feed forward)\n",
    "    layer0_test = X_test\n",
    "    layer1_test = sigmoid(np.dot(layer0_test, w0))\n",
    "    layer2_test = sigmoid(np.dot(layer1_test, w1))\n",
    "\n",
    "    # метрика модели\n",
    "    preds_test = np.argmax(layer2_test, axis=1)\n",
    "    labels_test = np.argmax(y_test, axis=1)\n",
    "    accuracy_test = (preds_test == labels_test).sum() * 100 / len(labels_test)\n",
    "    \n",
    "    df.loc[p] = ['neuron_numb', neuron_numb, accuracy, accuracy_test]\n",
    "    p += 1\n"
   ]
  },
  {
   "cell_type": "code",
   "execution_count": 11,
   "metadata": {
    "ExecuteTime": {
     "end_time": "2021-04-05T21:42:40.889272Z",
     "start_time": "2021-04-05T21:42:40.858272Z"
    }
   },
   "outputs": [
    {
     "data": {
      "text/html": [
       "<div>\n",
       "<style scoped>\n",
       "    .dataframe tbody tr th:only-of-type {\n",
       "        vertical-align: middle;\n",
       "    }\n",
       "\n",
       "    .dataframe tbody tr th {\n",
       "        vertical-align: top;\n",
       "    }\n",
       "\n",
       "    .dataframe thead th {\n",
       "        text-align: right;\n",
       "    }\n",
       "</style>\n",
       "<table border=\"1\" class=\"dataframe\">\n",
       "  <thead>\n",
       "    <tr style=\"text-align: right;\">\n",
       "      <th></th>\n",
       "      <th>parametr name</th>\n",
       "      <th>value</th>\n",
       "      <th>train</th>\n",
       "      <th>test</th>\n",
       "    </tr>\n",
       "  </thead>\n",
       "  <tbody>\n",
       "    <tr>\n",
       "      <th>44</th>\n",
       "      <td>neuron_numb</td>\n",
       "      <td>46</td>\n",
       "      <td>85.951787</td>\n",
       "      <td>85.521886</td>\n",
       "    </tr>\n",
       "    <tr>\n",
       "      <th>75</th>\n",
       "      <td>neuron_numb</td>\n",
       "      <td>77</td>\n",
       "      <td>85.203658</td>\n",
       "      <td>86.531987</td>\n",
       "    </tr>\n",
       "    <tr>\n",
       "      <th>76</th>\n",
       "      <td>neuron_numb</td>\n",
       "      <td>78</td>\n",
       "      <td>87.448047</td>\n",
       "      <td>85.185185</td>\n",
       "    </tr>\n",
       "    <tr>\n",
       "      <th>86</th>\n",
       "      <td>neuron_numb</td>\n",
       "      <td>88</td>\n",
       "      <td>88.611804</td>\n",
       "      <td>88.383838</td>\n",
       "    </tr>\n",
       "    <tr>\n",
       "      <th>87</th>\n",
       "      <td>neuron_numb</td>\n",
       "      <td>89</td>\n",
       "      <td>86.118038</td>\n",
       "      <td>86.195286</td>\n",
       "    </tr>\n",
       "    <tr>\n",
       "      <th>88</th>\n",
       "      <td>neuron_numb</td>\n",
       "      <td>90</td>\n",
       "      <td>87.614298</td>\n",
       "      <td>85.016835</td>\n",
       "    </tr>\n",
       "    <tr>\n",
       "      <th>97</th>\n",
       "      <td>neuron_numb</td>\n",
       "      <td>99</td>\n",
       "      <td>91.687448</td>\n",
       "      <td>89.057239</td>\n",
       "    </tr>\n",
       "  </tbody>\n",
       "</table>\n",
       "</div>"
      ],
      "text/plain": [
       "   parametr name value      train       test\n",
       "44   neuron_numb    46  85.951787  85.521886\n",
       "75   neuron_numb    77  85.203658  86.531987\n",
       "76   neuron_numb    78  87.448047  85.185185\n",
       "86   neuron_numb    88  88.611804  88.383838\n",
       "87   neuron_numb    89  86.118038  86.195286\n",
       "88   neuron_numb    90  87.614298  85.016835\n",
       "97   neuron_numb    99  91.687448  89.057239"
      ]
     },
     "execution_count": 11,
     "metadata": {},
     "output_type": "execute_result"
    }
   ],
   "source": [
    "df.loc[(df['train'] > 85) & (df['test'] > 85)]"
   ]
  },
  {
   "cell_type": "code",
   "execution_count": 12,
   "metadata": {
    "ExecuteTime": {
     "end_time": "2021-04-05T21:42:41.031272Z",
     "start_time": "2021-04-05T21:42:40.890272Z"
    }
   },
   "outputs": [
    {
     "data": {
      "image/png": "[encoded data removed]",
      "text/plain": [
       "<Figure size 432x288 with 1 Axes>"
      ]
     },
     "metadata": {
      "needs_background": "light"
     },
     "output_type": "display_data"
    }
   ],
   "source": [
    "plt.plot(df['value'], df['train'])\n",
    "plt.plot(df['value'], df['test']);"
   ]
  },
  {
   "attachments": {},
   "cell_type": "markdown",
   "metadata": {},
   "source": [
    "Предваритнльно:\n",
    "- Увеличивая число нейронов у скрытого слоя - увеличивается точность, но наблюдаются провалы\n",
    "\n",
    "Как итог:\n",
    "- Оставлю количество нейронов у скрытого слоя прежним (5), но буду менять колличество эпох"
   ]
  },
  {
   "cell_type": "code",
   "execution_count": 13,
   "metadata": {
    "ExecuteTime": {
     "end_time": "2021-04-05T21:43:01.942329Z",
     "start_time": "2021-04-05T21:42:41.032273Z"
    }
   },
   "outputs": [
    {
     "data": {
      "text/html": [
       "<div>\n",
       "<style scoped>\n",
       "    .dataframe tbody tr th:only-of-type {\n",
       "        vertical-align: middle;\n",
       "    }\n",
       "\n",
       "    .dataframe tbody tr th {\n",
       "        vertical-align: top;\n",
       "    }\n",
       "\n",
       "    .dataframe thead th {\n",
       "        text-align: right;\n",
       "    }\n",
       "</style>\n",
       "<table border=\"1\" class=\"dataframe\">\n",
       "  <thead>\n",
       "    <tr style=\"text-align: right;\">\n",
       "      <th></th>\n",
       "      <th>parametr name</th>\n",
       "      <th>value</th>\n",
       "      <th>train</th>\n",
       "      <th>test</th>\n",
       "    </tr>\n",
       "  </thead>\n",
       "  <tbody>\n",
       "    <tr>\n",
       "      <th>0</th>\n",
       "      <td>num_epochs</td>\n",
       "      <td>100</td>\n",
       "      <td>35.910224</td>\n",
       "      <td>46.632997</td>\n",
       "    </tr>\n",
       "    <tr>\n",
       "      <th>1</th>\n",
       "      <td>num_epochs</td>\n",
       "      <td>500</td>\n",
       "      <td>57.522860</td>\n",
       "      <td>56.902357</td>\n",
       "    </tr>\n",
       "    <tr>\n",
       "      <th>2</th>\n",
       "      <td>num_epochs</td>\n",
       "      <td>1000</td>\n",
       "      <td>63.341646</td>\n",
       "      <td>62.962963</td>\n",
       "    </tr>\n",
       "    <tr>\n",
       "      <th>3</th>\n",
       "      <td>num_epochs</td>\n",
       "      <td>2000</td>\n",
       "      <td>64.089776</td>\n",
       "      <td>60.101010</td>\n",
       "    </tr>\n",
       "    <tr>\n",
       "      <th>4</th>\n",
       "      <td>num_epochs</td>\n",
       "      <td>5000</td>\n",
       "      <td>68.661679</td>\n",
       "      <td>61.952862</td>\n",
       "    </tr>\n",
       "    <tr>\n",
       "      <th>5</th>\n",
       "      <td>num_epochs</td>\n",
       "      <td>10000</td>\n",
       "      <td>67.414796</td>\n",
       "      <td>63.636364</td>\n",
       "    </tr>\n",
       "  </tbody>\n",
       "</table>\n",
       "</div>"
      ],
      "text/plain": [
       "  parametr name  value      train       test\n",
       "0    num_epochs    100  35.910224  46.632997\n",
       "1    num_epochs    500  57.522860  56.902357\n",
       "2    num_epochs   1000  63.341646  62.962963\n",
       "3    num_epochs   2000  64.089776  60.101010\n",
       "4    num_epochs   5000  68.661679  61.952862\n",
       "5    num_epochs  10000  67.414796  63.636364"
      ]
     },
     "execution_count": 13,
     "metadata": {},
     "output_type": "execute_result"
    }
   ],
   "source": [
    "# Обучение нейронной сети\n",
    "\n",
    "# определим число нейронов скрытого слоя\n",
    "neuron_numb = 5\n",
    "df = pd.DataFrame(columns=['parametr name', 'value', 'train', 'test'])\n",
    "p = 0\n",
    "\n",
    "for num_epochs in [100, 500, 1000, 2000, 5000, 10000]:\n",
    "    \n",
    "\n",
    "    # присваивание случайных весов\n",
    "    np.random.seed(1)\n",
    "    w0 = np.random.random((64, neuron_numb))  # для входного слоя    - 64 входа, neuron_numb выходов\n",
    "    w1 = np.random.random((neuron_numb, 10))  # для внутреннего слоя - neuron_numb входов, 10 выходов\n",
    "\n",
    "    # скорость обучения (learning rate)\n",
    "    learning_rate = 0.1\n",
    "\n",
    "    # количество итераций\n",
    "    #num_epochs = 1000\n",
    "\n",
    "    # массив для ошибок, чтобы потом построить график\n",
    "    errors = []\n",
    "    metrics = []\n",
    "\n",
    "\n",
    "    # процесс обучения\n",
    "    for i in range(num_epochs):\n",
    "\n",
    "        # прямое распространение(feed forward)\n",
    "        layer0 = X_train\n",
    "        layer1 = sigmoid(np.dot(layer0, w0))\n",
    "        layer2 = sigmoid(np.dot(layer1, w1))\n",
    "\n",
    "        # обратное распространение (back propagation)\n",
    "        #  с использованием градиентного спуска\n",
    "        layer2_error = layer2 - y_train  # производная функции потерь\n",
    "        layer2_grad = layer2_error * sigmoid_deriv(layer2)\n",
    "\n",
    "        layer1_error = layer2_grad.dot(w1.T)\n",
    "        layer1_grad = layer1_error * sigmoid_deriv(layer1)\n",
    "\n",
    "        w1 -= layer1.T.dot(layer2_grad) * learning_rate\n",
    "        w0 -= layer0.T.dot(layer1_grad) * learning_rate\n",
    "\n",
    "        # метрики качества\n",
    "        preds = np.argmax(layer2, axis=1)\n",
    "        labels = np.argmax(y_train, axis=1)\n",
    "        accuracy = (preds == labels).sum() * 100 / len(labels)\n",
    "    \n",
    "    # прямое распространение(feed forward)\n",
    "    layer0_test = X_test\n",
    "    layer1_test = sigmoid(np.dot(layer0_test, w0))\n",
    "    layer2_test = sigmoid(np.dot(layer1_test, w1))\n",
    "\n",
    "    # метрика модели\n",
    "    preds_test = np.argmax(layer2_test, axis=1)\n",
    "    labels_test = np.argmax(y_test, axis=1)\n",
    "    accuracy_test = (preds_test == labels_test).sum() * 100 / len(labels_test)\n",
    "    \n",
    "    df.loc[p] = ['num_epochs', num_epochs, accuracy, accuracy_test]\n",
    "    p += 1\n",
    "\n",
    "df"
   ]
  },
  {
   "cell_type": "code",
   "execution_count": 14,
   "metadata": {
    "ExecuteTime": {
     "end_time": "2021-04-05T21:43:02.097287Z",
     "start_time": "2021-04-05T21:43:01.944285Z"
    }
   },
   "outputs": [
    {
     "data": {
      "image/png": "[encoded data removed]",
      "text/plain": [
       "<Figure size 432x288 with 1 Axes>"
      ]
     },
     "metadata": {
      "needs_background": "light"
     },
     "output_type": "display_data"
    }
   ],
   "source": [
    "plt.plot(df['value'], df['train'])\n",
    "plt.plot(df['value'], df['test']);"
   ]
  },
  {
   "attachments": {},
   "cell_type": "markdown",
   "metadata": {},
   "source": [
    "### Заключение\n",
    "\n",
    "Повышение скора проявляется лучше при увеличении эпох"
   ]
  }
 ],
 "metadata": {
  "kernelspec": {
   "display_name": "Python 3",
   "language": "python",
   "name": "python3"
  },
  "language_info": {
   "codemirror_mode": {
    "name": "ipython",
    "version": 3
   },
   "file_extension": ".py",
   "mimetype": "text/x-python",
   "name": "python",
   "nbconvert_exporter": "python",
   "pygments_lexer": "ipython3",
   "version": "3.8.5"
  },
  "toc": {
   "base_numbering": 1,
   "nav_menu": {},
   "number_sections": false,
   "sideBar": true,
   "skip_h1_title": false,
   "title_cell": "Table of Contents",
   "title_sidebar": "Contents",
   "toc_cell": false,
   "toc_position": {},
   "toc_section_display": true,
   "toc_window_display": false
  },
  "varInspector": {
   "cols": {
    "lenName": 16,
    "lenType": 16,
    "lenVar": 40
   },
   "kernels_config": {
    "python": {
     "delete_cmd_postfix": "",
     "delete_cmd_prefix": "del ",
     "library": "var_list.py",
     "varRefreshCmd": "print(var_dic_list())"
    },
    "r": {
     "delete_cmd_postfix": ") ",
     "delete_cmd_prefix": "rm(",
     "library": "var_list.r",
     "varRefreshCmd": "cat(var_dic_list()) "
    }
   },
   "types_to_exclude": [
    "module",
    "function",
    "builtin_function_or_method",
    "instance",
    "_Feature"
   ],
   "window_display": false
  }
 },
 "nbformat": 4,
 "nbformat_minor": 4
}
