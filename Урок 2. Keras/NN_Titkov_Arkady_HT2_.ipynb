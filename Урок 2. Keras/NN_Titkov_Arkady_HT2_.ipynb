{
  "cells": [
    {
      "cell_type": "code",
      "execution_count": null,
      "metadata": {
        "colab": {
          "background_save": true,
          "base_uri": "https://localhost:8080/"
        },
        "id": "CK5v01oCYJod",
        "outputId": "e31c40f3-f8b8-41c2-87c0-992efe6f6c6e"
      },
      "outputs": [
        {
          "name": "stdout",
          "output_type": "stream",
          "text": [
            "Looking in indexes: https://pypi.org/simple, https://us-python.pkg.dev/colab-wheels/public/simple/\n",
            "Collecting mnist\n",
            "  Downloading mnist-0.2.2-py2.py3-none-any.whl (3.5 kB)\n",
            "Requirement already satisfied: numpy in /usr/local/lib/python3.10/dist-packages (from mnist) (1.22.4)\n",
            "Installing collected packages: mnist\n",
            "Successfully installed mnist-0.2.2\n"
          ]
        }
      ],
      "source": [
        " pip install mnist"
      ]
    },
    {
      "cell_type": "code",
      "execution_count": null,
      "metadata": {
        "id": "BdtNDP-W6TJi"
      },
      "outputs": [],
      "source": [
        "from keras.datasets import fashion_mnist"
      ]
    },
    {
      "cell_type": "markdown",
      "metadata": {
        "id": "Z81QZzWidNo1"
      },
      "source": [
        "Попробуем сделать нейросеть на Keras, используя полученные выше знания. Обучим нейросеть различать рукописные цифры."
      ]
    },
    {
      "cell_type": "code",
      "execution_count": null,
      "metadata": {
        "id": "AGaj-oayW29B"
      },
      "outputs": [],
      "source": [
        "# The full neural network code!\n",
        "###############################\n",
        "import numpy as np\n",
        "import mnist\n",
        "from keras.models import Sequential\n",
        "from keras.layers import Dense\n",
        "from keras.utils import to_categorical\n",
        "# Use scikit-learn to grid search the batch size and epochs\n",
        "from sklearn.model_selection import GridSearchCV\n",
        "from keras.wrappers.scikit_learn import KerasClassifier\n",
        "# Function to create model, required for KerasClassifier\n",
        "\n",
        "train_images = mnist.train_images()\n",
        "train_labels = mnist.train_labels()\n",
        "test_images = mnist.test_images()\n",
        "test_labels = mnist.test_labels()\n",
        "\n",
        "# Normalize the images.\n",
        "train_images = (train_images / 255) - 0.5\n",
        "test_images = (test_images / 255) - 0.5\n",
        "\n",
        "# Flatten the images.\n",
        "train_images = train_images.reshape((-1, 784))\n",
        "test_images = test_images.reshape((-1, 784))\n"
      ]
    },
    {
      "cell_type": "code",
      "execution_count": null,
      "metadata": {
        "id": "TyAghDELZOVL"
      },
      "outputs": [],
      "source": [
        "# Build the model.\n",
        "def create_model(optimizer='adam'):\n",
        "    model = Sequential([\n",
        "      Dense(32, activation='relu', input_shape=(784,)),\n",
        "      Dense(10, activation='softmax'),\n",
        "      #Dense(10),\n",
        "    ])\n",
        "\n",
        "    # Compile the model.\n",
        "    model.compile(\n",
        "      optimizer=optimizer,\n",
        "      loss='categorical_crossentropy',\n",
        "      metrics=['accuracy'],\n",
        "    )\n",
        "    return model"
      ]
    },
    {
      "cell_type": "code",
      "execution_count": null,
      "metadata": {
        "colab": {
          "base_uri": "https://localhost:8080/"
        },
        "id": "FQOY8_8mb_ZI",
        "outputId": "bb9ba94a-863f-43ce-90bf-b158eb538a35"
      },
      "outputs": [
        {
          "name": "stdout",
          "output_type": "stream",
          "text": [
            "Epoch 1/5\n",
            "1875/1875 [==============================] - 5s 2ms/step - loss: 0.4196 - accuracy: 0.8798\n",
            "Epoch 2/5\n",
            "1875/1875 [==============================] - 4s 2ms/step - loss: 0.2566 - accuracy: 0.9266\n",
            "Epoch 3/5\n",
            "1875/1875 [==============================] - 4s 2ms/step - loss: 0.2152 - accuracy: 0.9376\n",
            "Epoch 4/5\n",
            "1875/1875 [==============================] - 4s 2ms/step - loss: 0.1894 - accuracy: 0.9450\n",
            "Epoch 5/5\n",
            "1875/1875 [==============================] - 4s 2ms/step - loss: 0.1724 - accuracy: 0.9497\n",
            "313/313 [==============================] - 1s 2ms/step - loss: 0.1915 - accuracy: 0.9469\n",
            "1/1 [==============================] - 0s 55ms/step\n",
            "[7 2 1 0 4]\n",
            "[7 2 1 0 4]\n"
          ]
        }
      ],
      "source": [
        "# Train the model.\n",
        "model.fit(\n",
        "  train_images,\n",
        "  to_categorical(train_labels),\n",
        "  epochs=5,\n",
        "  batch_size=32,\n",
        ")\n",
        "\n",
        "# Evaluate the model.\n",
        "model.evaluate(\n",
        "  test_images,\n",
        "  to_categorical(test_labels)\n",
        ")\n",
        "\n",
        "# Save the model to disk.\n",
        "model.save_weights('model.h5')\n",
        "\n",
        "# Load the model from disk later using:\n",
        "# model.load_weights('model.h5')\n",
        "\n",
        "# Predict on the first 5 test images.\n",
        "predictions = model.predict(test_images[:5])\n",
        "\n",
        "# Print our model's predictions.\n",
        "print(np.argmax(predictions, axis=1)) # [7, 2, 1, 0, 4]\n",
        "\n",
        "# Check our predictions against the ground truths.\n",
        "print(test_labels[:5]) # [7, 2, 1, 0, 4]"
      ]
    },
    {
      "cell_type": "markdown",
      "metadata": {
        "id": "62P5K6ztlHJA"
      },
      "source": [
        "Поиск по сетке из библиотеки машинного обучения Python Scikit-Learn для настройки гиперпараметров моделей глубокого обучения Keras."
      ]
    },
    {
      "cell_type": "code",
      "execution_count": null,
      "metadata": {
        "id": "nrtdUsU6XxAz"
      },
      "outputs": [],
      "source": [
        "batch_size = [32]\n",
        "epochs = [5, 10, 15]\n",
        "optimizer = ['SGD', 'RMSprop', 'Adam']"
      ]
    },
    {
      "cell_type": "code",
      "execution_count": null,
      "metadata": {
        "colab": {
          "base_uri": "https://localhost:8080/"
        },
        "id": "1bcjL95iY88e",
        "outputId": "11f20afe-4b13-48e5-a3c3-932cb75f67db"
      },
      "outputs": [
        {
          "name": "stderr",
          "output_type": "stream",
          "text": [
            "<ipython-input-14-c6acfe14bd15>:1: DeprecationWarning: KerasClassifier is deprecated, use Sci-Keras (https://github.com/adriangb/scikeras) instead. See https://www.adriangb.com/scikeras/stable/migration.html for help migrating.\n",
            "  model = KerasClassifier(build_fn=create_model)\n"
          ]
        },
        {
          "name": "stdout",
          "output_type": "stream",
          "text": [
            "Epoch 1/15\n",
            "1875/1875 [==============================] - 7s 3ms/step - loss: 0.4175 - accuracy: 0.8774\n",
            "Epoch 2/15\n",
            "1875/1875 [==============================] - 5s 3ms/step - loss: 0.2605 - accuracy: 0.9239\n",
            "Epoch 3/15\n",
            "1875/1875 [==============================] - 6s 3ms/step - loss: 0.2158 - accuracy: 0.9365\n",
            "Epoch 4/15\n",
            "1875/1875 [==============================] - 5s 3ms/step - loss: 0.1891 - accuracy: 0.9449\n",
            "Epoch 5/15\n",
            "1875/1875 [==============================] - 5s 3ms/step - loss: 0.1709 - accuracy: 0.9503\n",
            "Epoch 6/15\n",
            "1875/1875 [==============================] - 6s 3ms/step - loss: 0.1585 - accuracy: 0.9532\n",
            "Epoch 7/15\n",
            "1875/1875 [==============================] - 5s 3ms/step - loss: 0.1483 - accuracy: 0.9564\n",
            "Epoch 8/15\n",
            "1875/1875 [==============================] - 6s 3ms/step - loss: 0.1420 - accuracy: 0.9592\n",
            "Epoch 9/15\n",
            "1875/1875 [==============================] - 5s 3ms/step - loss: 0.1353 - accuracy: 0.9604\n",
            "Epoch 10/15\n",
            "1875/1875 [==============================] - 5s 3ms/step - loss: 0.1308 - accuracy: 0.9619\n",
            "Epoch 11/15\n",
            "1875/1875 [==============================] - 6s 3ms/step - loss: 0.1266 - accuracy: 0.9633\n",
            "Epoch 12/15\n",
            "1875/1875 [==============================] - 5s 3ms/step - loss: 0.1226 - accuracy: 0.9641\n",
            "Epoch 13/15\n",
            "1875/1875 [==============================] - 6s 3ms/step - loss: 0.1187 - accuracy: 0.9658\n",
            "Epoch 14/15\n",
            "1875/1875 [==============================] - 5s 3ms/step - loss: 0.1161 - accuracy: 0.9658\n",
            "Epoch 15/15\n",
            "1875/1875 [==============================] - 6s 3ms/step - loss: 0.1125 - accuracy: 0.9669\n",
            "Best: 0.950700 using {'batch_size': 32, 'epochs': 15, 'optimizer': 'RMSprop'}\n",
            "0.913167 (0.005670) with: {'batch_size': 32, 'epochs': 5, 'optimizer': 'SGD'}\n",
            "0.943617 (0.004442) with: {'batch_size': 32, 'epochs': 5, 'optimizer': 'RMSprop'}\n",
            "0.939283 (0.005090) with: {'batch_size': 32, 'epochs': 5, 'optimizer': 'Adam'}\n",
            "0.929783 (0.007014) with: {'batch_size': 32, 'epochs': 10, 'optimizer': 'SGD'}\n",
            "0.944317 (0.007258) with: {'batch_size': 32, 'epochs': 10, 'optimizer': 'RMSprop'}\n",
            "0.940017 (0.010310) with: {'batch_size': 32, 'epochs': 10, 'optimizer': 'Adam'}\n",
            "0.938250 (0.005567) with: {'batch_size': 32, 'epochs': 15, 'optimizer': 'SGD'}\n",
            "0.950700 (0.004459) with: {'batch_size': 32, 'epochs': 15, 'optimizer': 'RMSprop'}\n",
            "0.950400 (0.006691) with: {'batch_size': 32, 'epochs': 15, 'optimizer': 'Adam'}\n"
          ]
        }
      ],
      "source": [
        "model = KerasClassifier(build_fn=create_model)\n",
        "param_grid = dict(batch_size=batch_size, epochs=epochs, optimizer=optimizer)\n",
        "grid = GridSearchCV(estimator=model, param_grid=param_grid, n_jobs=-1)\n",
        "grid_result = grid.fit(train_images, train_labels)\n",
        "# summarize results\n",
        "print(\"Best: %f using %s\" % (grid_result.best_score_, grid_result.best_params_))\n",
        "means = grid_result.cv_results_['mean_test_score']\n",
        "stds = grid_result.cv_results_['std_test_score']\n",
        "params = grid_result.cv_results_['params']\n",
        "for mean, stdev, param in zip(means, stds, params):\n",
        "    print(\"%f (%f) with: %r\" % (mean, stdev, param))"
      ]
    }
  ],
  "metadata": {
    "accelerator": "GPU",
    "colab": {
      "provenance": []
    },
    "gpuClass": "standard",
    "kernelspec": {
      "display_name": "Python 3",
      "language": "python",
      "name": "python3"
    },
    "language_info": {
      "codemirror_mode": {
        "name": "ipython",
        "version": 3
      },
      "file_extension": ".py",
      "mimetype": "text/x-python",
      "name": "python",
      "nbconvert_exporter": "python",
      "pygments_lexer": "ipython3",
      "version": "3.7.7"
    }
  },
  "nbformat": 4,
  "nbformat_minor": 0
}